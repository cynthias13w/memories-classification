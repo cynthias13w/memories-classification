{
  "nbformat": 4,
  "nbformat_minor": 0,
  "metadata": {
    "colab": {
      "provenance": [],
      "toc_visible": true,
      "gpuType": "T4"
    },
    "kernelspec": {
      "name": "python3",
      "display_name": "Python 3"
    },
    "language_info": {
      "name": "python"
    },
    "accelerator": "GPU"
  },
  "cells": [
    {
      "cell_type": "markdown",
      "source": [
        "# 🕊️ Memory Classifier: Imagination, Recall, and Retelling"
      ],
      "metadata": {
        "id": "Rs7QRgc2ScwX"
      }
    },
    {
      "cell_type": "markdown",
      "source": [
        "Understanding the relationship between *memories and storytelling* holds profound significance as storytelling serves as a mechanism for humans to share experiences shaping our culture and communication. Imagination, recollection, and retelling rely on different cognitive and memory processes, thereby suggesting that this distinction might also be reflected in the language employed during the process of storytelling.\n",
        "\n",
        "In this study, we explored the intricate interplay between memory processes and storytelling by contrasting narratives derived from imagined, recalled, and retold stories using \"Hippocorpus\", a comprehensive dataset of 6,854 English diary-like short stories (Sap et al., 2022), and by leveraging the capabilities of the most recent Natural Language Processing (NLP) techniques and Deep Learning algorithms.\n",
        "\n",
        "Firstly, as a baseline in our project, we implemented a **Machine Learning** approach using several classifiers fed with a bag-of-words (bow) and term frequency- inverse document frequency (tf-idf) representation of our textual data, achieving 53% accuracy.\n",
        "\n",
        "Secondly, we build a **fully connected deep neural network** (i.e., Multilayer Perceptron) featuring one embedding layer, a hidden layer, and an output layer. The vectorized inputs fed into our custom-built classification model were computed using three distinct word embedding algorithms such as **Glove, Fasttext, and Word2vec**, which allowed us to convert our textual data into vectors.  As a result, our model achieved an average accuracy of approximately 50%.\n",
        "\n",
        "Deep learning techniques still offer a promising avenue for investigating and classifying narratives originating from different types of memory. By continually refining our approach, e.g., using regularization methods, leveraging data augmentation and sampling techniques, and by exploring more advanced methodologies, such as **Recurrent Neural Network (RNN), Long-Short Term Memory models (LSTM), Transformer models or fine-tuning pre-trained Large Language Models (LLM)**, we aim to enhance the accuracy and richness of our understanding.\n",
        "\n",
        "\n",
        "\n",
        "\n",
        "\n",
        "\n"
      ],
      "metadata": {
        "id": "a3WepWlILv9p"
      }
    },
    {
      "cell_type": "code",
      "source": [
        "# Data manipulation\n",
        "import numpy as np\n",
        "import pandas as pd\n",
        "pd.set_option('display.max_columns', None)\n",
        "\n",
        "# Data visualization\n",
        "import matplotlib.pyplot as plt\n",
        "import seaborn as sns\n",
        "\n",
        "# Utils\n",
        "import os\n",
        "import random\n",
        "from collections import Counter"
      ],
      "metadata": {
        "id": "_CUNeGmxSg_w"
      },
      "execution_count": 67,
      "outputs": []
    },
    {
      "cell_type": "markdown",
      "source": [
        "# 🕵️ Load and Explore data"
      ],
      "metadata": {
        "id": "H0mcmkh-coDI"
      }
    },
    {
      "cell_type": "code",
      "source": [
        "# Mount drive\n",
        "from google.colab import drive\n",
        "drive.mount('/content/drive')"
      ],
      "metadata": {
        "colab": {
          "base_uri": "https://localhost:8080/"
        },
        "id": "SkGEDyr0z1BP",
        "outputId": "be7b92fa-bb91-41bd-859c-872dd256c301"
      },
      "execution_count": 68,
      "outputs": [
        {
          "output_type": "stream",
          "name": "stdout",
          "text": [
            "Drive already mounted at /content/drive; to attempt to forcibly remount, call drive.mount(\"/content/drive\", force_remount=True).\n"
          ]
        }
      ]
    },
    {
      "cell_type": "code",
      "source": [
        "# Load data\n",
        "data = pd.read_excel('/content/drive/MyDrive/neuromatch/hcV3-stories.xlsx')\n",
        "\n",
        "# Visualize the first 5 rows\n",
        "data.head()"
      ],
      "metadata": {
        "id": "LBPQhTPiz-Y7",
        "colab": {
          "base_uri": "https://localhost:8080/",
          "height": 790
        },
        "outputId": "dee1c672-a368-47ea-c35f-1d0fde60a2d5"
      },
      "execution_count": 69,
      "outputs": [
        {
          "output_type": "execute_result",
          "data": {
            "text/plain": [
              "                     AssignmentId  WorkTimeInSeconds  WorkerId  annotatorAge  \\\n",
              "0  32RIADZISTQWI5XIVG5BN0VMYFRS4U               1641  E9TY34YY          25.0   \n",
              "1  3018Q3ZVOJCZJFDMPSFXATCQ4DARA2               1245  237K2NI1          25.0   \n",
              "2  3IRIK4HM3B6UQBC0HI8Q5TBJZLEC61               1159  FK5QTANB          35.0   \n",
              "3  3018Q3ZVOJCZJFDMPSFXATCQG04RAI                500  UYOSBBRS          30.0   \n",
              "4  3MTMREQS4W44RBU8OMP3XSK8NMJAWZ               1074  34BFLNJV          25.0   \n",
              "\n",
              "  annotatorGender annotatorRace  distracted  draining  frequency  importance  \\\n",
              "0             man         white         1.0       1.0        NaN         3.0   \n",
              "1           woman         white         1.0       1.0        3.0         4.0   \n",
              "2           woman         black         1.0       1.0        NaN         4.0   \n",
              "3           woman         white         1.0       4.0        3.0         5.0   \n",
              "4             man         white         2.0       2.0        NaN         3.0   \n",
              "\n",
              "   logTimeSinceEvent                                  mainEvent   memType  \\\n",
              "0   4499809670330260                           attending a show  imagined   \n",
              "1   4499809670330260                                 a concert.  recalled   \n",
              "2   5010635294096250  my sister having her twins a little early  imagined   \n",
              "3   5010635294096250          meeting my twin niece and nephew.  recalled   \n",
              "4  34011973816621500   the consequences of going to burning man  imagined   \n",
              "\n",
              "                                      mostSurprising  openness recAgnPairId  \\\n",
              "0                         when I got concert tickets      0.00          NaN   \n",
              "1                          we saw the beautiful sky.      1.00          NaN   \n",
              "2                          she went into labor early      0.50          NaN   \n",
              "3                     finding out they were healthy.      1.00          NaN   \n",
              "4  When I don't answer the phone in case I owe th...      0.25          NaN   \n",
              "\n",
              "                     recImgPairId  similarity  \\\n",
              "0  3018Q3ZVOJCZJFDMPSFXATCQ4DARA2         3.0   \n",
              "1  3018Q3ZVOJCZJFDMPSFXATCQ4DARA2         NaN   \n",
              "2  3018Q3ZVOJCZJFDMPSFXATCQG04RAI         3.0   \n",
              "3  3018Q3ZVOJCZJFDMPSFXATCQG04RAI         NaN   \n",
              "4  3018Q3ZVOJCZJFDMPSFXATCQG06AR3         4.0   \n",
              "\n",
              "                                similarityReason  \\\n",
              "0  I've been to a couple concerts, but not many.   \n",
              "1                                            NaN   \n",
              "2                           I am a mother myself   \n",
              "3                                            NaN   \n",
              "4             Because I also have money problems   \n",
              "\n",
              "                                               story  stressful  \\\n",
              "0  Concerts are my most favorite thing, and my bo...        1.0   \n",
              "1  The day started perfectly, with a great drive ...        1.0   \n",
              "2  It seems just like yesterday but today makes f...        1.0   \n",
              "3  Five months ago, my niece and nephew were born...        2.0   \n",
              "4  About a month ago I went to burning man. I was...        4.0   \n",
              "\n",
              "                                             summary  timeSinceEvent  \n",
              "0  My boyfriend and I went to a concert together ...            90.0  \n",
              "1  My boyfriend and I went to a concert together ...            90.0  \n",
              "2  My sister gave birth to my twin niece and neph...           150.0  \n",
              "3  My sister gave birth to my twin niece and neph...           150.0  \n",
              "4  It is always a journey for me to go to burning...            30.0  "
            ],
            "text/html": [
              "\n",
              "\n",
              "  <div id=\"df-5945d16d-70b4-4c6e-ae9d-6c4dc018a4c4\">\n",
              "    <div class=\"colab-df-container\">\n",
              "      <div>\n",
              "<style scoped>\n",
              "    .dataframe tbody tr th:only-of-type {\n",
              "        vertical-align: middle;\n",
              "    }\n",
              "\n",
              "    .dataframe tbody tr th {\n",
              "        vertical-align: top;\n",
              "    }\n",
              "\n",
              "    .dataframe thead th {\n",
              "        text-align: right;\n",
              "    }\n",
              "</style>\n",
              "<table border=\"1\" class=\"dataframe\">\n",
              "  <thead>\n",
              "    <tr style=\"text-align: right;\">\n",
              "      <th></th>\n",
              "      <th>AssignmentId</th>\n",
              "      <th>WorkTimeInSeconds</th>\n",
              "      <th>WorkerId</th>\n",
              "      <th>annotatorAge</th>\n",
              "      <th>annotatorGender</th>\n",
              "      <th>annotatorRace</th>\n",
              "      <th>distracted</th>\n",
              "      <th>draining</th>\n",
              "      <th>frequency</th>\n",
              "      <th>importance</th>\n",
              "      <th>logTimeSinceEvent</th>\n",
              "      <th>mainEvent</th>\n",
              "      <th>memType</th>\n",
              "      <th>mostSurprising</th>\n",
              "      <th>openness</th>\n",
              "      <th>recAgnPairId</th>\n",
              "      <th>recImgPairId</th>\n",
              "      <th>similarity</th>\n",
              "      <th>similarityReason</th>\n",
              "      <th>story</th>\n",
              "      <th>stressful</th>\n",
              "      <th>summary</th>\n",
              "      <th>timeSinceEvent</th>\n",
              "    </tr>\n",
              "  </thead>\n",
              "  <tbody>\n",
              "    <tr>\n",
              "      <th>0</th>\n",
              "      <td>32RIADZISTQWI5XIVG5BN0VMYFRS4U</td>\n",
              "      <td>1641</td>\n",
              "      <td>E9TY34YY</td>\n",
              "      <td>25.0</td>\n",
              "      <td>man</td>\n",
              "      <td>white</td>\n",
              "      <td>1.0</td>\n",
              "      <td>1.0</td>\n",
              "      <td>NaN</td>\n",
              "      <td>3.0</td>\n",
              "      <td>4499809670330260</td>\n",
              "      <td>attending a show</td>\n",
              "      <td>imagined</td>\n",
              "      <td>when I got concert tickets</td>\n",
              "      <td>0.00</td>\n",
              "      <td>NaN</td>\n",
              "      <td>3018Q3ZVOJCZJFDMPSFXATCQ4DARA2</td>\n",
              "      <td>3.0</td>\n",
              "      <td>I've been to a couple concerts, but not many.</td>\n",
              "      <td>Concerts are my most favorite thing, and my bo...</td>\n",
              "      <td>1.0</td>\n",
              "      <td>My boyfriend and I went to a concert together ...</td>\n",
              "      <td>90.0</td>\n",
              "    </tr>\n",
              "    <tr>\n",
              "      <th>1</th>\n",
              "      <td>3018Q3ZVOJCZJFDMPSFXATCQ4DARA2</td>\n",
              "      <td>1245</td>\n",
              "      <td>237K2NI1</td>\n",
              "      <td>25.0</td>\n",
              "      <td>woman</td>\n",
              "      <td>white</td>\n",
              "      <td>1.0</td>\n",
              "      <td>1.0</td>\n",
              "      <td>3.0</td>\n",
              "      <td>4.0</td>\n",
              "      <td>4499809670330260</td>\n",
              "      <td>a concert.</td>\n",
              "      <td>recalled</td>\n",
              "      <td>we saw the beautiful sky.</td>\n",
              "      <td>1.00</td>\n",
              "      <td>NaN</td>\n",
              "      <td>3018Q3ZVOJCZJFDMPSFXATCQ4DARA2</td>\n",
              "      <td>NaN</td>\n",
              "      <td>NaN</td>\n",
              "      <td>The day started perfectly, with a great drive ...</td>\n",
              "      <td>1.0</td>\n",
              "      <td>My boyfriend and I went to a concert together ...</td>\n",
              "      <td>90.0</td>\n",
              "    </tr>\n",
              "    <tr>\n",
              "      <th>2</th>\n",
              "      <td>3IRIK4HM3B6UQBC0HI8Q5TBJZLEC61</td>\n",
              "      <td>1159</td>\n",
              "      <td>FK5QTANB</td>\n",
              "      <td>35.0</td>\n",
              "      <td>woman</td>\n",
              "      <td>black</td>\n",
              "      <td>1.0</td>\n",
              "      <td>1.0</td>\n",
              "      <td>NaN</td>\n",
              "      <td>4.0</td>\n",
              "      <td>5010635294096250</td>\n",
              "      <td>my sister having her twins a little early</td>\n",
              "      <td>imagined</td>\n",
              "      <td>she went into labor early</td>\n",
              "      <td>0.50</td>\n",
              "      <td>NaN</td>\n",
              "      <td>3018Q3ZVOJCZJFDMPSFXATCQG04RAI</td>\n",
              "      <td>3.0</td>\n",
              "      <td>I am a mother myself</td>\n",
              "      <td>It seems just like yesterday but today makes f...</td>\n",
              "      <td>1.0</td>\n",
              "      <td>My sister gave birth to my twin niece and neph...</td>\n",
              "      <td>150.0</td>\n",
              "    </tr>\n",
              "    <tr>\n",
              "      <th>3</th>\n",
              "      <td>3018Q3ZVOJCZJFDMPSFXATCQG04RAI</td>\n",
              "      <td>500</td>\n",
              "      <td>UYOSBBRS</td>\n",
              "      <td>30.0</td>\n",
              "      <td>woman</td>\n",
              "      <td>white</td>\n",
              "      <td>1.0</td>\n",
              "      <td>4.0</td>\n",
              "      <td>3.0</td>\n",
              "      <td>5.0</td>\n",
              "      <td>5010635294096250</td>\n",
              "      <td>meeting my twin niece and nephew.</td>\n",
              "      <td>recalled</td>\n",
              "      <td>finding out they were healthy.</td>\n",
              "      <td>1.00</td>\n",
              "      <td>NaN</td>\n",
              "      <td>3018Q3ZVOJCZJFDMPSFXATCQG04RAI</td>\n",
              "      <td>NaN</td>\n",
              "      <td>NaN</td>\n",
              "      <td>Five months ago, my niece and nephew were born...</td>\n",
              "      <td>2.0</td>\n",
              "      <td>My sister gave birth to my twin niece and neph...</td>\n",
              "      <td>150.0</td>\n",
              "    </tr>\n",
              "    <tr>\n",
              "      <th>4</th>\n",
              "      <td>3MTMREQS4W44RBU8OMP3XSK8NMJAWZ</td>\n",
              "      <td>1074</td>\n",
              "      <td>34BFLNJV</td>\n",
              "      <td>25.0</td>\n",
              "      <td>man</td>\n",
              "      <td>white</td>\n",
              "      <td>2.0</td>\n",
              "      <td>2.0</td>\n",
              "      <td>NaN</td>\n",
              "      <td>3.0</td>\n",
              "      <td>34011973816621500</td>\n",
              "      <td>the consequences of going to burning man</td>\n",
              "      <td>imagined</td>\n",
              "      <td>When I don't answer the phone in case I owe th...</td>\n",
              "      <td>0.25</td>\n",
              "      <td>NaN</td>\n",
              "      <td>3018Q3ZVOJCZJFDMPSFXATCQG06AR3</td>\n",
              "      <td>4.0</td>\n",
              "      <td>Because I also have money problems</td>\n",
              "      <td>About a month ago I went to burning man. I was...</td>\n",
              "      <td>4.0</td>\n",
              "      <td>It is always a journey for me to go to burning...</td>\n",
              "      <td>30.0</td>\n",
              "    </tr>\n",
              "  </tbody>\n",
              "</table>\n",
              "</div>\n",
              "      <button class=\"colab-df-convert\" onclick=\"convertToInteractive('df-5945d16d-70b4-4c6e-ae9d-6c4dc018a4c4')\"\n",
              "              title=\"Convert this dataframe to an interactive table.\"\n",
              "              style=\"display:none;\">\n",
              "\n",
              "  <svg xmlns=\"http://www.w3.org/2000/svg\" height=\"24px\"viewBox=\"0 0 24 24\"\n",
              "       width=\"24px\">\n",
              "    <path d=\"M0 0h24v24H0V0z\" fill=\"none\"/>\n",
              "    <path d=\"M18.56 5.44l.94 2.06.94-2.06 2.06-.94-2.06-.94-.94-2.06-.94 2.06-2.06.94zm-11 1L8.5 8.5l.94-2.06 2.06-.94-2.06-.94L8.5 2.5l-.94 2.06-2.06.94zm10 10l.94 2.06.94-2.06 2.06-.94-2.06-.94-.94-2.06-.94 2.06-2.06.94z\"/><path d=\"M17.41 7.96l-1.37-1.37c-.4-.4-.92-.59-1.43-.59-.52 0-1.04.2-1.43.59L10.3 9.45l-7.72 7.72c-.78.78-.78 2.05 0 2.83L4 21.41c.39.39.9.59 1.41.59.51 0 1.02-.2 1.41-.59l7.78-7.78 2.81-2.81c.8-.78.8-2.07 0-2.86zM5.41 20L4 18.59l7.72-7.72 1.47 1.35L5.41 20z\"/>\n",
              "  </svg>\n",
              "      </button>\n",
              "\n",
              "\n",
              "\n",
              "    <div id=\"df-50d732d9-837c-4214-b300-1b027009378a\">\n",
              "      <button class=\"colab-df-quickchart\" onclick=\"quickchart('df-50d732d9-837c-4214-b300-1b027009378a')\"\n",
              "              title=\"Suggest charts.\"\n",
              "              style=\"display:none;\">\n",
              "\n",
              "<svg xmlns=\"http://www.w3.org/2000/svg\" height=\"24px\"viewBox=\"0 0 24 24\"\n",
              "     width=\"24px\">\n",
              "    <g>\n",
              "        <path d=\"M19 3H5c-1.1 0-2 .9-2 2v14c0 1.1.9 2 2 2h14c1.1 0 2-.9 2-2V5c0-1.1-.9-2-2-2zM9 17H7v-7h2v7zm4 0h-2V7h2v10zm4 0h-2v-4h2v4z\"/>\n",
              "    </g>\n",
              "</svg>\n",
              "      </button>\n",
              "    </div>\n",
              "\n",
              "<style>\n",
              "  .colab-df-quickchart {\n",
              "    background-color: #E8F0FE;\n",
              "    border: none;\n",
              "    border-radius: 50%;\n",
              "    cursor: pointer;\n",
              "    display: none;\n",
              "    fill: #1967D2;\n",
              "    height: 32px;\n",
              "    padding: 0 0 0 0;\n",
              "    width: 32px;\n",
              "  }\n",
              "\n",
              "  .colab-df-quickchart:hover {\n",
              "    background-color: #E2EBFA;\n",
              "    box-shadow: 0px 1px 2px rgba(60, 64, 67, 0.3), 0px 1px 3px 1px rgba(60, 64, 67, 0.15);\n",
              "    fill: #174EA6;\n",
              "  }\n",
              "\n",
              "  [theme=dark] .colab-df-quickchart {\n",
              "    background-color: #3B4455;\n",
              "    fill: #D2E3FC;\n",
              "  }\n",
              "\n",
              "  [theme=dark] .colab-df-quickchart:hover {\n",
              "    background-color: #434B5C;\n",
              "    box-shadow: 0px 1px 3px 1px rgba(0, 0, 0, 0.15);\n",
              "    filter: drop-shadow(0px 1px 2px rgba(0, 0, 0, 0.3));\n",
              "    fill: #FFFFFF;\n",
              "  }\n",
              "</style>\n",
              "\n",
              "    <script>\n",
              "      async function quickchart(key) {\n",
              "        const containerElement = document.querySelector('#' + key);\n",
              "        const charts = await google.colab.kernel.invokeFunction(\n",
              "            'suggestCharts', [key], {});\n",
              "      }\n",
              "    </script>\n",
              "\n",
              "      <script>\n",
              "\n",
              "function displayQuickchartButton(domScope) {\n",
              "  let quickchartButtonEl =\n",
              "    domScope.querySelector('#df-50d732d9-837c-4214-b300-1b027009378a button.colab-df-quickchart');\n",
              "  quickchartButtonEl.style.display =\n",
              "    google.colab.kernel.accessAllowed ? 'block' : 'none';\n",
              "}\n",
              "\n",
              "        displayQuickchartButton(document);\n",
              "      </script>\n",
              "      <style>\n",
              "    .colab-df-container {\n",
              "      display:flex;\n",
              "      flex-wrap:wrap;\n",
              "      gap: 12px;\n",
              "    }\n",
              "\n",
              "    .colab-df-convert {\n",
              "      background-color: #E8F0FE;\n",
              "      border: none;\n",
              "      border-radius: 50%;\n",
              "      cursor: pointer;\n",
              "      display: none;\n",
              "      fill: #1967D2;\n",
              "      height: 32px;\n",
              "      padding: 0 0 0 0;\n",
              "      width: 32px;\n",
              "    }\n",
              "\n",
              "    .colab-df-convert:hover {\n",
              "      background-color: #E2EBFA;\n",
              "      box-shadow: 0px 1px 2px rgba(60, 64, 67, 0.3), 0px 1px 3px 1px rgba(60, 64, 67, 0.15);\n",
              "      fill: #174EA6;\n",
              "    }\n",
              "\n",
              "    [theme=dark] .colab-df-convert {\n",
              "      background-color: #3B4455;\n",
              "      fill: #D2E3FC;\n",
              "    }\n",
              "\n",
              "    [theme=dark] .colab-df-convert:hover {\n",
              "      background-color: #434B5C;\n",
              "      box-shadow: 0px 1px 3px 1px rgba(0, 0, 0, 0.15);\n",
              "      filter: drop-shadow(0px 1px 2px rgba(0, 0, 0, 0.3));\n",
              "      fill: #FFFFFF;\n",
              "    }\n",
              "  </style>\n",
              "\n",
              "      <script>\n",
              "        const buttonEl =\n",
              "          document.querySelector('#df-5945d16d-70b4-4c6e-ae9d-6c4dc018a4c4 button.colab-df-convert');\n",
              "        buttonEl.style.display =\n",
              "          google.colab.kernel.accessAllowed ? 'block' : 'none';\n",
              "\n",
              "        async function convertToInteractive(key) {\n",
              "          const element = document.querySelector('#df-5945d16d-70b4-4c6e-ae9d-6c4dc018a4c4');\n",
              "          const dataTable =\n",
              "            await google.colab.kernel.invokeFunction('convertToInteractive',\n",
              "                                                     [key], {});\n",
              "          if (!dataTable) return;\n",
              "\n",
              "          const docLinkHtml = 'Like what you see? Visit the ' +\n",
              "            '<a target=\"_blank\" href=https://colab.research.google.com/notebooks/data_table.ipynb>data table notebook</a>'\n",
              "            + ' to learn more about interactive tables.';\n",
              "          element.innerHTML = '';\n",
              "          dataTable['output_type'] = 'display_data';\n",
              "          await google.colab.output.renderOutput(dataTable, element);\n",
              "          const docLink = document.createElement('div');\n",
              "          docLink.innerHTML = docLinkHtml;\n",
              "          element.appendChild(docLink);\n",
              "        }\n",
              "      </script>\n",
              "    </div>\n",
              "  </div>\n"
            ]
          },
          "metadata": {},
          "execution_count": 69
        }
      ]
    },
    {
      "cell_type": "code",
      "source": [
        "# rows, columns\n",
        "data.shape"
      ],
      "metadata": {
        "id": "ykfdKpgMRAgc",
        "colab": {
          "base_uri": "https://localhost:8080/"
        },
        "outputId": "cdde4d43-e1fe-415a-f6fe-70f820062cd6"
      },
      "execution_count": 70,
      "outputs": [
        {
          "output_type": "execute_result",
          "data": {
            "text/plain": [
              "(6854, 23)"
            ]
          },
          "metadata": {},
          "execution_count": 70
        }
      ]
    },
    {
      "cell_type": "code",
      "source": [
        "# Zooming in on main columns\n",
        "data[['memType','recImgPairId','story','mainEvent','summary']].head();"
      ],
      "metadata": {
        "id": "xWAfN6M-SVuR"
      },
      "execution_count": 71,
      "outputs": []
    },
    {
      "cell_type": "code",
      "source": [
        "# Percentage of missing values\n",
        "data.isna().sum().sort_values(ascending = False).head() / len(data) * 100"
      ],
      "metadata": {
        "id": "9q5abj9KQwID",
        "colab": {
          "base_uri": "https://localhost:8080/"
        },
        "outputId": "d86dac89-1237-49a8-9e59-6fe7d9aae24d"
      },
      "execution_count": 72,
      "outputs": [
        {
          "output_type": "execute_result",
          "data": {
            "text/plain": [
              "recAgnPairId        61.803327\n",
              "similarityReason    59.819084\n",
              "similarity          59.819084\n",
              "frequency           40.210096\n",
              "recImgPairId        22.293551\n",
              "dtype: float64"
            ]
          },
          "metadata": {},
          "execution_count": 72
        }
      ]
    },
    {
      "cell_type": "code",
      "source": [
        "import missingno as msno\n",
        "msno.matrix(data);\n",
        "\n",
        "# Alternatively, you can use a heatmap to visualize missing data\n",
        "# sns.heatmap(data.isnull(), cbar=False)"
      ],
      "metadata": {
        "id": "a6oVW8GVcaRZ",
        "colab": {
          "base_uri": "https://localhost:8080/",
          "height": 391
        },
        "outputId": "103bbb72-5613-4dcb-f610-a9c6db1d13cb"
      },
      "execution_count": 73,
      "outputs": [
        {
          "output_type": "display_data",
          "data": {
            "text/plain": [
              "<Figure size 2500x1000 with 2 Axes>"
            ],
            "image/png": "[encoded data removed]"
          },
          "metadata": {}
        }
      ]
    },
    {
      "cell_type": "code",
      "source": [
        "# Dropping missing values from story and memType\n",
        "data = data.dropna(subset=['story', 'memType'])"
      ],
      "metadata": {
        "id": "l0Wfsgc0s8m-"
      },
      "execution_count": 74,
      "outputs": []
    },
    {
      "cell_type": "code",
      "source": [
        "data['memType'].unique()"
      ],
      "metadata": {
        "colab": {
          "base_uri": "https://localhost:8080/"
        },
        "id": "bBYeMDywtrpJ",
        "outputId": "2abc8c26-9f26-4c1c-ca50-bd314e22049d"
      },
      "execution_count": 75,
      "outputs": [
        {
          "output_type": "execute_result",
          "data": {
            "text/plain": [
              "array(['imagined', 'recalled', 'retold'], dtype=object)"
            ]
          },
          "metadata": {},
          "execution_count": 75
        }
      ]
    },
    {
      "cell_type": "code",
      "source": [
        "# Distribution of classes\n",
        "plt.figure(figsize=(5, 6))\n",
        "sns.set(style=\"ticks\", rc={\"axes.grid\": False})\n",
        "ax = sns.countplot(x = data['memType'], linewidth=0, width=0.4, palette='mako', dodge=1)\n",
        "\n",
        "# labels\n",
        "plt.title(\"Count of Memory Type\")\n",
        "plt.xlabel('')\n",
        "plt.ylabel('')\n",
        "ax.tick_params(left=False, bottom=False)\n",
        "sns.despine(left=True, bottom=True)"
      ],
      "metadata": {
        "colab": {
          "base_uri": "https://localhost:8080/",
          "height": 549
        },
        "id": "Kbhh1lNvtXNK",
        "outputId": "5d64cb0d-31c4-4df6-8d30-ef08063d8b08"
      },
      "execution_count": 76,
      "outputs": [
        {
          "output_type": "display_data",
          "data": {
            "text/plain": [
              "<Figure size 500x600 with 1 Axes>"
            ],
            "image/png": "[encoded data removed]"
          },
          "metadata": {}
        }
      ]
    },
    {
      "cell_type": "code",
      "source": [
        "# Filling in NAs\n",
        "data[['frequency','similarity']] = data[['frequency','similarity']].fillna(0)"
      ],
      "metadata": {
        "id": "yaLT8DNs9rQS"
      },
      "execution_count": 77,
      "outputs": []
    },
    {
      "cell_type": "code",
      "source": [
        "data_encoded = pd.get_dummies(data, columns=['annotatorGender','annotatorRace','memType'])\n",
        "data_encoded.head()"
      ],
      "metadata": {
        "id": "-WQk6NsuomIe",
        "colab": {
          "base_uri": "https://localhost:8080/",
          "height": 790
        },
        "outputId": "60006210-51ac-4e32-9fb9-e2a32c5624df"
      },
      "execution_count": 78,
      "outputs": [
        {
          "output_type": "execute_result",
          "data": {
            "text/plain": [
              "                     AssignmentId  WorkTimeInSeconds  WorkerId  annotatorAge  \\\n",
              "0  32RIADZISTQWI5XIVG5BN0VMYFRS4U               1641  E9TY34YY          25.0   \n",
              "1  3018Q3ZVOJCZJFDMPSFXATCQ4DARA2               1245  237K2NI1          25.0   \n",
              "2  3IRIK4HM3B6UQBC0HI8Q5TBJZLEC61               1159  FK5QTANB          35.0   \n",
              "3  3018Q3ZVOJCZJFDMPSFXATCQG04RAI                500  UYOSBBRS          30.0   \n",
              "4  3MTMREQS4W44RBU8OMP3XSK8NMJAWZ               1074  34BFLNJV          25.0   \n",
              "\n",
              "   distracted  draining  frequency  importance  logTimeSinceEvent  \\\n",
              "0         1.0       1.0        0.0         3.0   4499809670330260   \n",
              "1         1.0       1.0        3.0         4.0   4499809670330260   \n",
              "2         1.0       1.0        0.0         4.0   5010635294096250   \n",
              "3         1.0       4.0        3.0         5.0   5010635294096250   \n",
              "4         2.0       2.0        0.0         3.0  34011973816621500   \n",
              "\n",
              "                                   mainEvent  \\\n",
              "0                           attending a show   \n",
              "1                                 a concert.   \n",
              "2  my sister having her twins a little early   \n",
              "3          meeting my twin niece and nephew.   \n",
              "4   the consequences of going to burning man   \n",
              "\n",
              "                                      mostSurprising  openness recAgnPairId  \\\n",
              "0                         when I got concert tickets      0.00          NaN   \n",
              "1                          we saw the beautiful sky.      1.00          NaN   \n",
              "2                          she went into labor early      0.50          NaN   \n",
              "3                     finding out they were healthy.      1.00          NaN   \n",
              "4  When I don't answer the phone in case I owe th...      0.25          NaN   \n",
              "\n",
              "                     recImgPairId  similarity  \\\n",
              "0  3018Q3ZVOJCZJFDMPSFXATCQ4DARA2         3.0   \n",
              "1  3018Q3ZVOJCZJFDMPSFXATCQ4DARA2         0.0   \n",
              "2  3018Q3ZVOJCZJFDMPSFXATCQG04RAI         3.0   \n",
              "3  3018Q3ZVOJCZJFDMPSFXATCQG04RAI         0.0   \n",
              "4  3018Q3ZVOJCZJFDMPSFXATCQG06AR3         4.0   \n",
              "\n",
              "                                similarityReason  \\\n",
              "0  I've been to a couple concerts, but not many.   \n",
              "1                                            NaN   \n",
              "2                           I am a mother myself   \n",
              "3                                            NaN   \n",
              "4             Because I also have money problems   \n",
              "\n",
              "                                               story  stressful  \\\n",
              "0  Concerts are my most favorite thing, and my bo...        1.0   \n",
              "1  The day started perfectly, with a great drive ...        1.0   \n",
              "2  It seems just like yesterday but today makes f...        1.0   \n",
              "3  Five months ago, my niece and nephew were born...        2.0   \n",
              "4  About a month ago I went to burning man. I was...        4.0   \n",
              "\n",
              "                                             summary  timeSinceEvent  \\\n",
              "0  My boyfriend and I went to a concert together ...            90.0   \n",
              "1  My boyfriend and I went to a concert together ...            90.0   \n",
              "2  My sister gave birth to my twin niece and neph...           150.0   \n",
              "3  My sister gave birth to my twin niece and neph...           150.0   \n",
              "4  It is always a journey for me to go to burning...            30.0   \n",
              "\n",
              "   annotatorGender_man  annotatorGender_na  annotatorGender_nonBinary  \\\n",
              "0                    1                   0                          0   \n",
              "1                    0                   0                          0   \n",
              "2                    0                   0                          0   \n",
              "3                    0                   0                          0   \n",
              "4                    1                   0                          0   \n",
              "\n",
              "   annotatorGender_other  annotatorGender_transman  \\\n",
              "0                      0                         0   \n",
              "1                      0                         0   \n",
              "2                      0                         0   \n",
              "3                      0                         0   \n",
              "4                      0                         0   \n",
              "\n",
              "   annotatorGender_transwoman  annotatorGender_woman  annotatorRace_asian  \\\n",
              "0                           0                      0                    0   \n",
              "1                           0                      1                    0   \n",
              "2                           0                      1                    0   \n",
              "3                           0                      1                    0   \n",
              "4                           0                      0                    0   \n",
              "\n",
              "   annotatorRace_black  annotatorRace_hisp  annotatorRace_indian  \\\n",
              "0                    0                   0                     0   \n",
              "1                    0                   0                     0   \n",
              "2                    1                   0                     0   \n",
              "3                    0                   0                     0   \n",
              "4                    0                   0                     0   \n",
              "\n",
              "   annotatorRace_islander  annotatorRace_middleEastern  annotatorRace_na  \\\n",
              "0                       0                            0                 0   \n",
              "1                       0                            0                 0   \n",
              "2                       0                            0                 0   \n",
              "3                       0                            0                 0   \n",
              "4                       0                            0                 0   \n",
              "\n",
              "   annotatorRace_native  annotatorRace_other  annotatorRace_white  \\\n",
              "0                     0                    0                    1   \n",
              "1                     0                    0                    1   \n",
              "2                     0                    0                    0   \n",
              "3                     0                    0                    1   \n",
              "4                     0                    0                    1   \n",
              "\n",
              "   memType_imagined  memType_recalled  memType_retold  \n",
              "0                 1                 0               0  \n",
              "1                 0                 1               0  \n",
              "2                 1                 0               0  \n",
              "3                 0                 1               0  \n",
              "4                 1                 0               0  "
            ],
            "text/html": [
              "\n",
              "\n",
              "  <div id=\"df-4850a198-89e9-4f3a-aa70-b7b94cf1fb6d\">\n",
              "    <div class=\"colab-df-container\">\n",
              "      <div>\n",
              "<style scoped>\n",
              "    .dataframe tbody tr th:only-of-type {\n",
              "        vertical-align: middle;\n",
              "    }\n",
              "\n",
              "    .dataframe tbody tr th {\n",
              "        vertical-align: top;\n",
              "    }\n",
              "\n",
              "    .dataframe thead th {\n",
              "        text-align: right;\n",
              "    }\n",
              "</style>\n",
              "<table border=\"1\" class=\"dataframe\">\n",
              "  <thead>\n",
              "    <tr style=\"text-align: right;\">\n",
              "      <th></th>\n",
              "      <th>AssignmentId</th>\n",
              "      <th>WorkTimeInSeconds</th>\n",
              "      <th>WorkerId</th>\n",
              "      <th>annotatorAge</th>\n",
              "      <th>distracted</th>\n",
              "      <th>draining</th>\n",
              "      <th>frequency</th>\n",
              "      <th>importance</th>\n",
              "      <th>logTimeSinceEvent</th>\n",
              "      <th>mainEvent</th>\n",
              "      <th>mostSurprising</th>\n",
              "      <th>openness</th>\n",
              "      <th>recAgnPairId</th>\n",
              "      <th>recImgPairId</th>\n",
              "      <th>similarity</th>\n",
              "      <th>similarityReason</th>\n",
              "      <th>story</th>\n",
              "      <th>stressful</th>\n",
              "      <th>summary</th>\n",
              "      <th>timeSinceEvent</th>\n",
              "      <th>annotatorGender_man</th>\n",
              "      <th>annotatorGender_na</th>\n",
              "      <th>annotatorGender_nonBinary</th>\n",
              "      <th>annotatorGender_other</th>\n",
              "      <th>annotatorGender_transman</th>\n",
              "      <th>annotatorGender_transwoman</th>\n",
              "      <th>annotatorGender_woman</th>\n",
              "      <th>annotatorRace_asian</th>\n",
              "      <th>annotatorRace_black</th>\n",
              "      <th>annotatorRace_hisp</th>\n",
              "      <th>annotatorRace_indian</th>\n",
              "      <th>annotatorRace_islander</th>\n",
              "      <th>annotatorRace_middleEastern</th>\n",
              "      <th>annotatorRace_na</th>\n",
              "      <th>annotatorRace_native</th>\n",
              "      <th>annotatorRace_other</th>\n",
              "      <th>annotatorRace_white</th>\n",
              "      <th>memType_imagined</th>\n",
              "      <th>memType_recalled</th>\n",
              "      <th>memType_retold</th>\n",
              "    </tr>\n",
              "  </thead>\n",
              "  <tbody>\n",
              "    <tr>\n",
              "      <th>0</th>\n",
              "      <td>32RIADZISTQWI5XIVG5BN0VMYFRS4U</td>\n",
              "      <td>1641</td>\n",
              "      <td>E9TY34YY</td>\n",
              "      <td>25.0</td>\n",
              "      <td>1.0</td>\n",
              "      <td>1.0</td>\n",
              "      <td>0.0</td>\n",
              "      <td>3.0</td>\n",
              "      <td>4499809670330260</td>\n",
              "      <td>attending a show</td>\n",
              "      <td>when I got concert tickets</td>\n",
              "      <td>0.00</td>\n",
              "      <td>NaN</td>\n",
              "      <td>3018Q3ZVOJCZJFDMPSFXATCQ4DARA2</td>\n",
              "      <td>3.0</td>\n",
              "      <td>I've been to a couple concerts, but not many.</td>\n",
              "      <td>Concerts are my most favorite thing, and my bo...</td>\n",
              "      <td>1.0</td>\n",
              "      <td>My boyfriend and I went to a concert together ...</td>\n",
              "      <td>90.0</td>\n",
              "      <td>1</td>\n",
              "      <td>0</td>\n",
              "      <td>0</td>\n",
              "      <td>0</td>\n",
              "      <td>0</td>\n",
              "      <td>0</td>\n",
              "      <td>0</td>\n",
              "      <td>0</td>\n",
              "      <td>0</td>\n",
              "      <td>0</td>\n",
              "      <td>0</td>\n",
              "      <td>0</td>\n",
              "      <td>0</td>\n",
              "      <td>0</td>\n",
              "      <td>0</td>\n",
              "      <td>0</td>\n",
              "      <td>1</td>\n",
              "      <td>1</td>\n",
              "      <td>0</td>\n",
              "      <td>0</td>\n",
              "    </tr>\n",
              "    <tr>\n",
              "      <th>1</th>\n",
              "      <td>3018Q3ZVOJCZJFDMPSFXATCQ4DARA2</td>\n",
              "      <td>1245</td>\n",
              "      <td>237K2NI1</td>\n",
              "      <td>25.0</td>\n",
              "      <td>1.0</td>\n",
              "      <td>1.0</td>\n",
              "      <td>3.0</td>\n",
              "      <td>4.0</td>\n",
              "      <td>4499809670330260</td>\n",
              "      <td>a concert.</td>\n",
              "      <td>we saw the beautiful sky.</td>\n",
              "      <td>1.00</td>\n",
              "      <td>NaN</td>\n",
              "      <td>3018Q3ZVOJCZJFDMPSFXATCQ4DARA2</td>\n",
              "      <td>0.0</td>\n",
              "      <td>NaN</td>\n",
              "      <td>The day started perfectly, with a great drive ...</td>\n",
              "      <td>1.0</td>\n",
              "      <td>My boyfriend and I went to a concert together ...</td>\n",
              "      <td>90.0</td>\n",
              "      <td>0</td>\n",
              "      <td>0</td>\n",
              "      <td>0</td>\n",
              "      <td>0</td>\n",
              "      <td>0</td>\n",
              "      <td>0</td>\n",
              "      <td>1</td>\n",
              "      <td>0</td>\n",
              "      <td>0</td>\n",
              "      <td>0</td>\n",
              "      <td>0</td>\n",
              "      <td>0</td>\n",
              "      <td>0</td>\n",
              "      <td>0</td>\n",
              "      <td>0</td>\n",
              "      <td>0</td>\n",
              "      <td>1</td>\n",
              "      <td>0</td>\n",
              "      <td>1</td>\n",
              "      <td>0</td>\n",
              "    </tr>\n",
              "    <tr>\n",
              "      <th>2</th>\n",
              "      <td>3IRIK4HM3B6UQBC0HI8Q5TBJZLEC61</td>\n",
              "      <td>1159</td>\n",
              "      <td>FK5QTANB</td>\n",
              "      <td>35.0</td>\n",
              "      <td>1.0</td>\n",
              "      <td>1.0</td>\n",
              "      <td>0.0</td>\n",
              "      <td>4.0</td>\n",
              "      <td>5010635294096250</td>\n",
              "      <td>my sister having her twins a little early</td>\n",
              "      <td>she went into labor early</td>\n",
              "      <td>0.50</td>\n",
              "      <td>NaN</td>\n",
              "      <td>3018Q3ZVOJCZJFDMPSFXATCQG04RAI</td>\n",
              "      <td>3.0</td>\n",
              "      <td>I am a mother myself</td>\n",
              "      <td>It seems just like yesterday but today makes f...</td>\n",
              "      <td>1.0</td>\n",
              "      <td>My sister gave birth to my twin niece and neph...</td>\n",
              "      <td>150.0</td>\n",
              "      <td>0</td>\n",
              "      <td>0</td>\n",
              "      <td>0</td>\n",
              "      <td>0</td>\n",
              "      <td>0</td>\n",
              "      <td>0</td>\n",
              "      <td>1</td>\n",
              "      <td>0</td>\n",
              "      <td>1</td>\n",
              "      <td>0</td>\n",
              "      <td>0</td>\n",
              "      <td>0</td>\n",
              "      <td>0</td>\n",
              "      <td>0</td>\n",
              "      <td>0</td>\n",
              "      <td>0</td>\n",
              "      <td>0</td>\n",
              "      <td>1</td>\n",
              "      <td>0</td>\n",
              "      <td>0</td>\n",
              "    </tr>\n",
              "    <tr>\n",
              "      <th>3</th>\n",
              "      <td>3018Q3ZVOJCZJFDMPSFXATCQG04RAI</td>\n",
              "      <td>500</td>\n",
              "      <td>UYOSBBRS</td>\n",
              "      <td>30.0</td>\n",
              "      <td>1.0</td>\n",
              "      <td>4.0</td>\n",
              "      <td>3.0</td>\n",
              "      <td>5.0</td>\n",
              "      <td>5010635294096250</td>\n",
              "      <td>meeting my twin niece and nephew.</td>\n",
              "      <td>finding out they were healthy.</td>\n",
              "      <td>1.00</td>\n",
              "      <td>NaN</td>\n",
              "      <td>3018Q3ZVOJCZJFDMPSFXATCQG04RAI</td>\n",
              "      <td>0.0</td>\n",
              "      <td>NaN</td>\n",
              "      <td>Five months ago, my niece and nephew were born...</td>\n",
              "      <td>2.0</td>\n",
              "      <td>My sister gave birth to my twin niece and neph...</td>\n",
              "      <td>150.0</td>\n",
              "      <td>0</td>\n",
              "      <td>0</td>\n",
              "      <td>0</td>\n",
              "      <td>0</td>\n",
              "      <td>0</td>\n",
              "      <td>0</td>\n",
              "      <td>1</td>\n",
              "      <td>0</td>\n",
              "      <td>0</td>\n",
              "      <td>0</td>\n",
              "      <td>0</td>\n",
              "      <td>0</td>\n",
              "      <td>0</td>\n",
              "      <td>0</td>\n",
              "      <td>0</td>\n",
              "      <td>0</td>\n",
              "      <td>1</td>\n",
              "      <td>0</td>\n",
              "      <td>1</td>\n",
              "      <td>0</td>\n",
              "    </tr>\n",
              "    <tr>\n",
              "      <th>4</th>\n",
              "      <td>3MTMREQS4W44RBU8OMP3XSK8NMJAWZ</td>\n",
              "      <td>1074</td>\n",
              "      <td>34BFLNJV</td>\n",
              "      <td>25.0</td>\n",
              "      <td>2.0</td>\n",
              "      <td>2.0</td>\n",
              "      <td>0.0</td>\n",
              "      <td>3.0</td>\n",
              "      <td>34011973816621500</td>\n",
              "      <td>the consequences of going to burning man</td>\n",
              "      <td>When I don't answer the phone in case I owe th...</td>\n",
              "      <td>0.25</td>\n",
              "      <td>NaN</td>\n",
              "      <td>3018Q3ZVOJCZJFDMPSFXATCQG06AR3</td>\n",
              "      <td>4.0</td>\n",
              "      <td>Because I also have money problems</td>\n",
              "      <td>About a month ago I went to burning man. I was...</td>\n",
              "      <td>4.0</td>\n",
              "      <td>It is always a journey for me to go to burning...</td>\n",
              "      <td>30.0</td>\n",
              "      <td>1</td>\n",
              "      <td>0</td>\n",
              "      <td>0</td>\n",
              "      <td>0</td>\n",
              "      <td>0</td>\n",
              "      <td>0</td>\n",
              "      <td>0</td>\n",
              "      <td>0</td>\n",
              "      <td>0</td>\n",
              "      <td>0</td>\n",
              "      <td>0</td>\n",
              "      <td>0</td>\n",
              "      <td>0</td>\n",
              "      <td>0</td>\n",
              "      <td>0</td>\n",
              "      <td>0</td>\n",
              "      <td>1</td>\n",
              "      <td>1</td>\n",
              "      <td>0</td>\n",
              "      <td>0</td>\n",
              "    </tr>\n",
              "  </tbody>\n",
              "</table>\n",
              "</div>\n",
              "      <button class=\"colab-df-convert\" onclick=\"convertToInteractive('df-4850a198-89e9-4f3a-aa70-b7b94cf1fb6d')\"\n",
              "              title=\"Convert this dataframe to an interactive table.\"\n",
              "              style=\"display:none;\">\n",
              "\n",
              "  <svg xmlns=\"http://www.w3.org/2000/svg\" height=\"24px\"viewBox=\"0 0 24 24\"\n",
              "       width=\"24px\">\n",
              "    <path d=\"M0 0h24v24H0V0z\" fill=\"none\"/>\n",
              "    <path d=\"M18.56 5.44l.94 2.06.94-2.06 2.06-.94-2.06-.94-.94-2.06-.94 2.06-2.06.94zm-11 1L8.5 8.5l.94-2.06 2.06-.94-2.06-.94L8.5 2.5l-.94 2.06-2.06.94zm10 10l.94 2.06.94-2.06 2.06-.94-2.06-.94-.94-2.06-.94 2.06-2.06.94z\"/><path d=\"M17.41 7.96l-1.37-1.37c-.4-.4-.92-.59-1.43-.59-.52 0-1.04.2-1.43.59L10.3 9.45l-7.72 7.72c-.78.78-.78 2.05 0 2.83L4 21.41c.39.39.9.59 1.41.59.51 0 1.02-.2 1.41-.59l7.78-7.78 2.81-2.81c.8-.78.8-2.07 0-2.86zM5.41 20L4 18.59l7.72-7.72 1.47 1.35L5.41 20z\"/>\n",
              "  </svg>\n",
              "      </button>\n",
              "\n",
              "\n",
              "\n",
              "    <div id=\"df-e885fc34-eee3-470f-8043-eed2e89c9524\">\n",
              "      <button class=\"colab-df-quickchart\" onclick=\"quickchart('df-e885fc34-eee3-470f-8043-eed2e89c9524')\"\n",
              "              title=\"Suggest charts.\"\n",
              "              style=\"display:none;\">\n",
              "\n",
              "<svg xmlns=\"http://www.w3.org/2000/svg\" height=\"24px\"viewBox=\"0 0 24 24\"\n",
              "     width=\"24px\">\n",
              "    <g>\n",
              "        <path d=\"M19 3H5c-1.1 0-2 .9-2 2v14c0 1.1.9 2 2 2h14c1.1 0 2-.9 2-2V5c0-1.1-.9-2-2-2zM9 17H7v-7h2v7zm4 0h-2V7h2v10zm4 0h-2v-4h2v4z\"/>\n",
              "    </g>\n",
              "</svg>\n",
              "      </button>\n",
              "    </div>\n",
              "\n",
              "<style>\n",
              "  .colab-df-quickchart {\n",
              "    background-color: #E8F0FE;\n",
              "    border: none;\n",
              "    border-radius: 50%;\n",
              "    cursor: pointer;\n",
              "    display: none;\n",
              "    fill: #1967D2;\n",
              "    height: 32px;\n",
              "    padding: 0 0 0 0;\n",
              "    width: 32px;\n",
              "  }\n",
              "\n",
              "  .colab-df-quickchart:hover {\n",
              "    background-color: #E2EBFA;\n",
              "    box-shadow: 0px 1px 2px rgba(60, 64, 67, 0.3), 0px 1px 3px 1px rgba(60, 64, 67, 0.15);\n",
              "    fill: #174EA6;\n",
              "  }\n",
              "\n",
              "  [theme=dark] .colab-df-quickchart {\n",
              "    background-color: #3B4455;\n",
              "    fill: #D2E3FC;\n",
              "  }\n",
              "\n",
              "  [theme=dark] .colab-df-quickchart:hover {\n",
              "    background-color: #434B5C;\n",
              "    box-shadow: 0px 1px 3px 1px rgba(0, 0, 0, 0.15);\n",
              "    filter: drop-shadow(0px 1px 2px rgba(0, 0, 0, 0.3));\n",
              "    fill: #FFFFFF;\n",
              "  }\n",
              "</style>\n",
              "\n",
              "    <script>\n",
              "      async function quickchart(key) {\n",
              "        const containerElement = document.querySelector('#' + key);\n",
              "        const charts = await google.colab.kernel.invokeFunction(\n",
              "            'suggestCharts', [key], {});\n",
              "      }\n",
              "    </script>\n",
              "\n",
              "      <script>\n",
              "\n",
              "function displayQuickchartButton(domScope) {\n",
              "  let quickchartButtonEl =\n",
              "    domScope.querySelector('#df-e885fc34-eee3-470f-8043-eed2e89c9524 button.colab-df-quickchart');\n",
              "  quickchartButtonEl.style.display =\n",
              "    google.colab.kernel.accessAllowed ? 'block' : 'none';\n",
              "}\n",
              "\n",
              "        displayQuickchartButton(document);\n",
              "      </script>\n",
              "      <style>\n",
              "    .colab-df-container {\n",
              "      display:flex;\n",
              "      flex-wrap:wrap;\n",
              "      gap: 12px;\n",
              "    }\n",
              "\n",
              "    .colab-df-convert {\n",
              "      background-color: #E8F0FE;\n",
              "      border: none;\n",
              "      border-radius: 50%;\n",
              "      cursor: pointer;\n",
              "      display: none;\n",
              "      fill: #1967D2;\n",
              "      height: 32px;\n",
              "      padding: 0 0 0 0;\n",
              "      width: 32px;\n",
              "    }\n",
              "\n",
              "    .colab-df-convert:hover {\n",
              "      background-color: #E2EBFA;\n",
              "      box-shadow: 0px 1px 2px rgba(60, 64, 67, 0.3), 0px 1px 3px 1px rgba(60, 64, 67, 0.15);\n",
              "      fill: #174EA6;\n",
              "    }\n",
              "\n",
              "    [theme=dark] .colab-df-convert {\n",
              "      background-color: #3B4455;\n",
              "      fill: #D2E3FC;\n",
              "    }\n",
              "\n",
              "    [theme=dark] .colab-df-convert:hover {\n",
              "      background-color: #434B5C;\n",
              "      box-shadow: 0px 1px 3px 1px rgba(0, 0, 0, 0.15);\n",
              "      filter: drop-shadow(0px 1px 2px rgba(0, 0, 0, 0.3));\n",
              "      fill: #FFFFFF;\n",
              "    }\n",
              "  </style>\n",
              "\n",
              "      <script>\n",
              "        const buttonEl =\n",
              "          document.querySelector('#df-4850a198-89e9-4f3a-aa70-b7b94cf1fb6d button.colab-df-convert');\n",
              "        buttonEl.style.display =\n",
              "          google.colab.kernel.accessAllowed ? 'block' : 'none';\n",
              "\n",
              "        async function convertToInteractive(key) {\n",
              "          const element = document.querySelector('#df-4850a198-89e9-4f3a-aa70-b7b94cf1fb6d');\n",
              "          const dataTable =\n",
              "            await google.colab.kernel.invokeFunction('convertToInteractive',\n",
              "                                                     [key], {});\n",
              "          if (!dataTable) return;\n",
              "\n",
              "          const docLinkHtml = 'Like what you see? Visit the ' +\n",
              "            '<a target=\"_blank\" href=https://colab.research.google.com/notebooks/data_table.ipynb>data table notebook</a>'\n",
              "            + ' to learn more about interactive tables.';\n",
              "          element.innerHTML = '';\n",
              "          dataTable['output_type'] = 'display_data';\n",
              "          await google.colab.output.renderOutput(dataTable, element);\n",
              "          const docLink = document.createElement('div');\n",
              "          docLink.innerHTML = docLinkHtml;\n",
              "          element.appendChild(docLink);\n",
              "        }\n",
              "      </script>\n",
              "    </div>\n",
              "  </div>\n"
            ]
          },
          "metadata": {},
          "execution_count": 78
        }
      ]
    },
    {
      "cell_type": "code",
      "source": [
        "# Viewing numerical variables\n",
        "plt.figure(figsize=(20, 10))\n",
        "data.hist();"
      ],
      "metadata": {
        "id": "ZPI4OIu5_4hL",
        "colab": {
          "base_uri": "https://localhost:8080/",
          "height": 494
        },
        "outputId": "04dbf1d9-3298-4c0e-ea37-2e9e28c2c489"
      },
      "execution_count": 79,
      "outputs": [
        {
          "output_type": "display_data",
          "data": {
            "text/plain": [
              "<Figure size 2000x1000 with 0 Axes>"
            ]
          },
          "metadata": {}
        },
        {
          "output_type": "display_data",
          "data": {
            "text/plain": [
              "<Figure size 640x480 with 12 Axes>"
            ],
            "image/png": "[encoded data removed]"
          },
          "metadata": {}
        }
      ]
    },
    {
      "cell_type": "code",
      "source": [
        "# Target - Distribution\n",
        "data['memType'].value_counts();"
      ],
      "metadata": {
        "id": "NkzbYB-i-1ll"
      },
      "execution_count": 80,
      "outputs": []
    },
    {
      "cell_type": "code",
      "source": [
        "corr = data_encoded.corr()\n",
        "\n",
        "plt.figure(figsize=(10, 8))\n",
        "sns.heatmap(corr[['memType_imagined','memType_recalled','memType_retold']], annot=True)\n",
        "plt.show();"
      ],
      "metadata": {
        "id": "7MPhNdh9mf-w",
        "colab": {
          "base_uri": "https://localhost:8080/",
          "height": 587
        },
        "outputId": "5bd7d81c-58ac-4016-db3e-0c48aaa57308"
      },
      "execution_count": 81,
      "outputs": [
        {
          "output_type": "stream",
          "name": "stderr",
          "text": [
            "<ipython-input-81-18e16800370c>:1: FutureWarning: The default value of numeric_only in DataFrame.corr is deprecated. In a future version, it will default to False. Select only valid columns or specify the value of numeric_only to silence this warning.\n",
            "  corr = data_encoded.corr()\n"
          ]
        },
        {
          "output_type": "display_data",
          "data": {
            "text/plain": [
              "<Figure size 1000x800 with 2 Axes>"
            ],
            "image/png": "[encoded data removed]"
          },
          "metadata": {}
        }
      ]
    },
    {
      "cell_type": "markdown",
      "source": [
        "# 🤖 Machine Learning"
      ],
      "metadata": {
        "id": "Be0BNu6xOWk_"
      }
    },
    {
      "cell_type": "markdown",
      "source": [
        "## 🖋️ Text Preprocessing"
      ],
      "metadata": {
        "id": "YegvnbPd9z4l"
      }
    },
    {
      "cell_type": "code",
      "source": [
        "import spacy\n",
        "from spacy.lang.en.stop_words import STOP_WORDS\n",
        "import string\n",
        "\n",
        "# Load Spacy's English language model\n",
        "# Download (large) English Pipeline from spacy\n",
        "!python -m spacy download en_core_web_lg;\n",
        "nlp = spacy.load(\"en_core_web_lg\")"
      ],
      "metadata": {
        "id": "kqZX1rvFs7MG",
        "colab": {
          "base_uri": "https://localhost:8080/"
        },
        "outputId": "41403d92-e315-4150-8b7e-89d63e8fb204"
      },
      "execution_count": 82,
      "outputs": [
        {
          "output_type": "stream",
          "name": "stdout",
          "text": [
            "2023-07-27 22:00:23.582559: W tensorflow/compiler/tf2tensorrt/utils/py_utils.cc:38] TF-TRT Warning: Could not find TensorRT\n",
            "Collecting en-core-web-lg==3.5.0\n",
            "  Downloading https://github.com/explosion/spacy-models/releases/download/en_core_web_lg-3.5.0/en_core_web_lg-3.5.0-py3-none-any.whl (587.7 MB)\n",
            "\u001b[2K     \u001b[90m━━━━━━━━━━━━━━━━━━━━━━━━━━━━━━━━━━━━━━━\u001b[0m \u001b[32m587.7/587.7 MB\u001b[0m \u001b[31m1.4 MB/s\u001b[0m eta \u001b[36m0:00:00\u001b[0m\n",
            "\u001b[?25hRequirement already satisfied: spacy<3.6.0,>=3.5.0 in /usr/local/lib/python3.10/dist-packages (from en-core-web-lg==3.5.0) (3.5.4)\n",
            "Requirement already satisfied: spacy-legacy<3.1.0,>=3.0.11 in /usr/local/lib/python3.10/dist-packages (from spacy<3.6.0,>=3.5.0->en-core-web-lg==3.5.0) (3.0.12)\n",
            "Requirement already satisfied: spacy-loggers<2.0.0,>=1.0.0 in /usr/local/lib/python3.10/dist-packages (from spacy<3.6.0,>=3.5.0->en-core-web-lg==3.5.0) (1.0.4)\n",
            "Requirement already satisfied: murmurhash<1.1.0,>=0.28.0 in /usr/local/lib/python3.10/dist-packages (from spacy<3.6.0,>=3.5.0->en-core-web-lg==3.5.0) (1.0.9)\n",
            "Requirement already satisfied: cymem<2.1.0,>=2.0.2 in /usr/local/lib/python3.10/dist-packages (from spacy<3.6.0,>=3.5.0->en-core-web-lg==3.5.0) (2.0.7)\n",
            "Requirement already satisfied: preshed<3.1.0,>=3.0.2 in /usr/local/lib/python3.10/dist-packages (from spacy<3.6.0,>=3.5.0->en-core-web-lg==3.5.0) (3.0.8)\n",
            "Requirement already satisfied: thinc<8.2.0,>=8.1.8 in /usr/local/lib/python3.10/dist-packages (from spacy<3.6.0,>=3.5.0->en-core-web-lg==3.5.0) (8.1.10)\n",
            "Requirement already satisfied: wasabi<1.2.0,>=0.9.1 in /usr/local/lib/python3.10/dist-packages (from spacy<3.6.0,>=3.5.0->en-core-web-lg==3.5.0) (1.1.2)\n",
            "Requirement already satisfied: srsly<3.0.0,>=2.4.3 in /usr/local/lib/python3.10/dist-packages (from spacy<3.6.0,>=3.5.0->en-core-web-lg==3.5.0) (2.4.7)\n",
            "Requirement already satisfied: catalogue<2.1.0,>=2.0.6 in /usr/local/lib/python3.10/dist-packages (from spacy<3.6.0,>=3.5.0->en-core-web-lg==3.5.0) (2.0.9)\n",
            "Requirement already satisfied: typer<0.10.0,>=0.3.0 in /usr/local/lib/python3.10/dist-packages (from spacy<3.6.0,>=3.5.0->en-core-web-lg==3.5.0) (0.9.0)\n",
            "Requirement already satisfied: pathy>=0.10.0 in /usr/local/lib/python3.10/dist-packages (from spacy<3.6.0,>=3.5.0->en-core-web-lg==3.5.0) (0.10.2)\n",
            "Requirement already satisfied: smart-open<7.0.0,>=5.2.1 in /usr/local/lib/python3.10/dist-packages (from spacy<3.6.0,>=3.5.0->en-core-web-lg==3.5.0) (6.3.0)\n",
            "Requirement already satisfied: tqdm<5.0.0,>=4.38.0 in /usr/local/lib/python3.10/dist-packages (from spacy<3.6.0,>=3.5.0->en-core-web-lg==3.5.0) (4.65.0)\n",
            "Requirement already satisfied: numpy>=1.15.0 in /usr/local/lib/python3.10/dist-packages (from spacy<3.6.0,>=3.5.0->en-core-web-lg==3.5.0) (1.22.4)\n",
            "Requirement already satisfied: requests<3.0.0,>=2.13.0 in /usr/local/lib/python3.10/dist-packages (from spacy<3.6.0,>=3.5.0->en-core-web-lg==3.5.0) (2.27.1)\n",
            "Requirement already satisfied: pydantic!=1.8,!=1.8.1,<1.11.0,>=1.7.4 in /usr/local/lib/python3.10/dist-packages (from spacy<3.6.0,>=3.5.0->en-core-web-lg==3.5.0) (1.10.12)\n",
            "Requirement already satisfied: jinja2 in /usr/local/lib/python3.10/dist-packages (from spacy<3.6.0,>=3.5.0->en-core-web-lg==3.5.0) (3.1.2)\n",
            "Requirement already satisfied: setuptools in /usr/local/lib/python3.10/dist-packages (from spacy<3.6.0,>=3.5.0->en-core-web-lg==3.5.0) (67.7.2)\n",
            "Requirement already satisfied: packaging>=20.0 in /usr/local/lib/python3.10/dist-packages (from spacy<3.6.0,>=3.5.0->en-core-web-lg==3.5.0) (23.1)\n",
            "Requirement already satisfied: langcodes<4.0.0,>=3.2.0 in /usr/local/lib/python3.10/dist-packages (from spacy<3.6.0,>=3.5.0->en-core-web-lg==3.5.0) (3.3.0)\n",
            "Requirement already satisfied: typing-extensions>=4.2.0 in /usr/local/lib/python3.10/dist-packages (from pydantic!=1.8,!=1.8.1,<1.11.0,>=1.7.4->spacy<3.6.0,>=3.5.0->en-core-web-lg==3.5.0) (4.7.1)\n",
            "Requirement already satisfied: urllib3<1.27,>=1.21.1 in /usr/local/lib/python3.10/dist-packages (from requests<3.0.0,>=2.13.0->spacy<3.6.0,>=3.5.0->en-core-web-lg==3.5.0) (1.26.16)\n",
            "Requirement already satisfied: certifi>=2017.4.17 in /usr/local/lib/python3.10/dist-packages (from requests<3.0.0,>=2.13.0->spacy<3.6.0,>=3.5.0->en-core-web-lg==3.5.0) (2023.7.22)\n",
            "Requirement already satisfied: charset-normalizer~=2.0.0 in /usr/local/lib/python3.10/dist-packages (from requests<3.0.0,>=2.13.0->spacy<3.6.0,>=3.5.0->en-core-web-lg==3.5.0) (2.0.12)\n",
            "Requirement already satisfied: idna<4,>=2.5 in /usr/local/lib/python3.10/dist-packages (from requests<3.0.0,>=2.13.0->spacy<3.6.0,>=3.5.0->en-core-web-lg==3.5.0) (3.4)\n",
            "Requirement already satisfied: blis<0.8.0,>=0.7.8 in /usr/local/lib/python3.10/dist-packages (from thinc<8.2.0,>=8.1.8->spacy<3.6.0,>=3.5.0->en-core-web-lg==3.5.0) (0.7.10)\n",
            "Requirement already satisfied: confection<1.0.0,>=0.0.1 in /usr/local/lib/python3.10/dist-packages (from thinc<8.2.0,>=8.1.8->spacy<3.6.0,>=3.5.0->en-core-web-lg==3.5.0) (0.1.0)\n",
            "Requirement already satisfied: click<9.0.0,>=7.1.1 in /usr/local/lib/python3.10/dist-packages (from typer<0.10.0,>=0.3.0->spacy<3.6.0,>=3.5.0->en-core-web-lg==3.5.0) (8.1.6)\n",
            "Requirement already satisfied: MarkupSafe>=2.0 in /usr/local/lib/python3.10/dist-packages (from jinja2->spacy<3.6.0,>=3.5.0->en-core-web-lg==3.5.0) (2.1.3)\n",
            "\u001b[38;5;2m✔ Download and installation successful\u001b[0m\n",
            "You can now load the package via spacy.load('en_core_web_lg')\n"
          ]
        }
      ]
    },
    {
      "cell_type": "code",
      "source": [
        "docs = []\n",
        "\n",
        "for doc in nlp.pipe(data['story'], n_process=os.cpu_count()-1, batch_size=200, disable = [\"transformer\", \"ner\", \"textcat\"]):\n",
        "    docs.append(doc)"
      ],
      "metadata": {
        "id": "_0xzxHgqJqvE"
      },
      "execution_count": 83,
      "outputs": []
    },
    {
      "cell_type": "markdown",
      "source": [
        "**🔠 Preprocessing steps:**\n",
        "\n",
        "- Lower case\n",
        "- Tokenization\n",
        "- Remove punctuation\n",
        "- Remove stop words\n",
        "- Lemmatization\n"
      ],
      "metadata": {
        "id": "5OrnrX93xoFt"
      }
    },
    {
      "cell_type": "code",
      "source": [
        "# Define a function to lemmatize content words\n",
        "def preprocess_text(doc):\n",
        "    # Lowercase and remove punctuation, double space, stop words and lemmatize text:\n",
        "    clean_tokens = [token.lemma_.lower() for token in doc if not (token.is_punct or token.is_space or token.is_stop)]\n",
        "    # Join the cleaned tokens back into a string\n",
        "    clean_text = \" \".join(clean_tokens)\n",
        "    return clean_tokens, clean_text"
      ],
      "metadata": {
        "id": "dlkrN39J5k4E"
      },
      "execution_count": 84,
      "outputs": []
    },
    {
      "cell_type": "code",
      "source": [
        "# Apply the preprocessing pipeline using nlp.pipe\n",
        "clean_tokens = []\n",
        "clean_text = []\n",
        "\n",
        "for doc in docs:\n",
        "    tokens, text = preprocess_text(doc)\n",
        "    clean_tokens.append(tokens)\n",
        "    clean_text.append(text)"
      ],
      "metadata": {
        "id": "cVI8qIPTHijO"
      },
      "execution_count": 85,
      "outputs": []
    },
    {
      "cell_type": "code",
      "source": [
        "# Add the preprocessed text and tokens as new columns in df\n",
        "data['story_preprocessed'] = clean_text\n",
        "data['story_tokens'] = clean_tokens"
      ],
      "metadata": {
        "id": "pMZ7hmdnTv-X"
      },
      "execution_count": 86,
      "outputs": []
    },
    {
      "cell_type": "code",
      "source": [
        "all_tokens = [token for tokens in clean_tokens for token in tokens]\n",
        "unique_tokens = set(all_tokens)"
      ],
      "metadata": {
        "id": "ZlcFpSVBPAPd"
      },
      "execution_count": 87,
      "outputs": []
    },
    {
      "cell_type": "code",
      "source": [
        "len(set(unique_tokens))"
      ],
      "metadata": {
        "colab": {
          "base_uri": "https://localhost:8080/"
        },
        "id": "3kb_0d8_QhVL",
        "outputId": "89748e69-7bac-4882-a319-d480c150e7da"
      },
      "execution_count": 88,
      "outputs": [
        {
          "output_type": "execute_result",
          "data": {
            "text/plain": [
              "19693"
            ]
          },
          "metadata": {},
          "execution_count": 88
        }
      ]
    },
    {
      "cell_type": "markdown",
      "source": [
        "🧮 **Compute the number of words in each story**"
      ],
      "metadata": {
        "id": "pQ3xA-9ONw9l"
      }
    },
    {
      "cell_type": "code",
      "source": [
        "# Number of words per story:\n",
        "data['word_count'] = [len(text.split()) for text in data['story_preprocessed']]"
      ],
      "metadata": {
        "id": "R5Be_SP2VA8Q"
      },
      "execution_count": 89,
      "outputs": []
    },
    {
      "cell_type": "code",
      "source": [
        "# Compute the minimum, maximum, average and std number of word for all the stories\n",
        "print('All stories in Hippocorpus')\n",
        "print()\n",
        "data['word_count'].describe()"
      ],
      "metadata": {
        "id": "PnyrdPfm7YA0",
        "colab": {
          "base_uri": "https://localhost:8080/"
        },
        "outputId": "f06f782a-fe99-4444-d32c-346a2bc991c6"
      },
      "execution_count": 90,
      "outputs": [
        {
          "output_type": "stream",
          "name": "stdout",
          "text": [
            "All stories in Hippocorpus\n",
            "\n"
          ]
        },
        {
          "output_type": "execute_result",
          "data": {
            "text/plain": [
              "count    6843.000000\n",
              "mean       95.489990\n",
              "std        35.607477\n",
              "min         0.000000\n",
              "25%        71.000000\n",
              "50%        91.000000\n",
              "75%       115.000000\n",
              "max       251.000000\n",
              "Name: word_count, dtype: float64"
            ]
          },
          "metadata": {},
          "execution_count": 90
        }
      ]
    },
    {
      "cell_type": "code",
      "source": [
        "# split real and imagined stories\n",
        "data_recalled = data[data['memType']=='recalled']\n",
        "data_imagined = data[data['memType']=='imagined']\n",
        "data_retold = data[data['memType']=='retold']"
      ],
      "metadata": {
        "id": "Yy5XoIW-m4qE"
      },
      "execution_count": 91,
      "outputs": []
    },
    {
      "cell_type": "code",
      "source": [
        "# Compute the minimum, maximum, average and std number of word for RECALLED the stories\n",
        "print('Recalled Stories')\n",
        "print()\n",
        "data_recalled['word_count'].describe()"
      ],
      "metadata": {
        "id": "YvmWezCVG9E9",
        "colab": {
          "base_uri": "https://localhost:8080/"
        },
        "outputId": "29819f9d-5e26-46fb-fb04-e50df4875041"
      },
      "execution_count": 92,
      "outputs": [
        {
          "output_type": "stream",
          "name": "stdout",
          "text": [
            "Recalled Stories\n",
            "\n"
          ]
        },
        {
          "output_type": "execute_result",
          "data": {
            "text/plain": [
              "count    2779.000000\n",
              "mean      100.847427\n",
              "std        36.453800\n",
              "min         0.000000\n",
              "25%        76.000000\n",
              "50%        96.000000\n",
              "75%       121.000000\n",
              "max       251.000000\n",
              "Name: word_count, dtype: float64"
            ]
          },
          "metadata": {},
          "execution_count": 92
        }
      ]
    },
    {
      "cell_type": "code",
      "source": [
        "# Compute the minimum, maximum, average and std number of word for IMAGINED the stories\n",
        "print('Imagined stories')\n",
        "print()\n",
        "data_imagined['word_count'].describe()"
      ],
      "metadata": {
        "id": "13jtZQzMG9FA",
        "colab": {
          "base_uri": "https://localhost:8080/"
        },
        "outputId": "5c92d0d9-b5ec-40f4-d3a6-ac2fca28a770"
      },
      "execution_count": 93,
      "outputs": [
        {
          "output_type": "stream",
          "name": "stdout",
          "text": [
            "Imagined stories\n",
            "\n"
          ]
        },
        {
          "output_type": "execute_result",
          "data": {
            "text/plain": [
              "count    2746.000000\n",
              "mean       88.869629\n",
              "std        34.447211\n",
              "min         2.000000\n",
              "25%        64.000000\n",
              "50%        84.000000\n",
              "75%       107.000000\n",
              "max       240.000000\n",
              "Name: word_count, dtype: float64"
            ]
          },
          "metadata": {},
          "execution_count": 93
        }
      ]
    },
    {
      "cell_type": "code",
      "source": [
        "# Compute the minimum, maximum, average and std number of word for RETOLD the stories\n",
        "print('Retold stories')\n",
        "print()\n",
        "data_retold['word_count'].describe()"
      ],
      "metadata": {
        "id": "SLs6kabHRHRT",
        "colab": {
          "base_uri": "https://localhost:8080/"
        },
        "outputId": "a8a3bef7-b08f-49c9-dfa8-f08d8f8760bd"
      },
      "execution_count": 94,
      "outputs": [
        {
          "output_type": "stream",
          "name": "stdout",
          "text": [
            "Retold stories\n",
            "\n"
          ]
        },
        {
          "output_type": "execute_result",
          "data": {
            "text/plain": [
              "count    1318.000000\n",
              "mean       97.987102\n",
              "std        33.947017\n",
              "min         2.000000\n",
              "25%        75.000000\n",
              "50%        93.000000\n",
              "75%       116.750000\n",
              "max       247.000000\n",
              "Name: word_count, dtype: float64"
            ]
          },
          "metadata": {},
          "execution_count": 94
        }
      ]
    },
    {
      "cell_type": "markdown",
      "source": [
        "## 🗃️ Min-Max number of words in Hippocorpus"
      ],
      "metadata": {
        "id": "ovaftjWbnVrv"
      }
    },
    {
      "cell_type": "markdown",
      "source": [
        "------------------------------------------------------\n",
        "\n",
        "---\n",
        "\n",
        "\n",
        "🚫 **Delete the stories with length below Q1-1.5*IQR and which are above Q3 + 1.5*IQR**\n",
        "\n",
        "Recompute the same analysis with the filtered dataset."
      ],
      "metadata": {
        "id": "ydMKf2TsY296"
      }
    },
    {
      "cell_type": "code",
      "source": [
        "Q1 = np.percentile(data['word_count'], 25)\n",
        "Q3 = np.percentile(data['word_count'], 75)\n",
        "IQR = Q3 - Q1\n",
        "\n",
        "min_thr = Q1 - 1.5*IQR\n",
        "max_thr = Q3 + 1.5*IQR"
      ],
      "metadata": {
        "id": "Majo0V1pVtVu"
      },
      "execution_count": 95,
      "outputs": []
    },
    {
      "cell_type": "code",
      "source": [
        "# Let's check the stories that have number of words below 2.5 std\n",
        "data[data['word_count'] < min_thr].loc[:,['memType','story','story_preprocessed','word_count']].sort_values('word_count', ascending=True, inplace=False)"
      ],
      "metadata": {
        "id": "DSL-4IofVY_Y",
        "colab": {
          "base_uri": "https://localhost:8080/",
          "height": 469
        },
        "outputId": "6498c32e-8204-451a-964e-5c995c12b6d8"
      },
      "execution_count": 96,
      "outputs": [
        {
          "output_type": "execute_result",
          "data": {
            "text/plain": [
              "       memType                                              story  \\\n",
              "2685  recalled                                        This was it   \n",
              "236     retold                    She is my oldest \"stepdaughter\"   \n",
              "739   recalled                            I was bored with my job   \n",
              "868   imagined              She stands in the front of the church   \n",
              "2012  imagined                            Two months ago I did it   \n",
              "2574  recalled                                        Dear, diary   \n",
              "5290  imagined            he day it happened was the same as most   \n",
              "1623  imagined  I have been working on packing up my apartment...   \n",
              "1673  recalled                       It happened a few months ago   \n",
              "4616  imagined  I am very proud of myself as a father. I have ...   \n",
              "504     retold  After having to give up on school to work full...   \n",
              "3106  imagined                        About one week ago I took m   \n",
              "\n",
              "         story_preprocessed  word_count  \n",
              "2685                                  0  \n",
              "236        old stepdaughter           2  \n",
              "739               bored job           2  \n",
              "868            stand church           2  \n",
              "2012              month ago           2  \n",
              "2574             dear diary           2  \n",
              "5290             day happen           2  \n",
              "1623    work pack apartment           3  \n",
              "1673       happen month ago           3  \n",
              "4616       proud father kid           3  \n",
              "504   have school work time           4  \n",
              "3106        week ago take m           4  "
            ],
            "text/html": [
              "\n",
              "\n",
              "  <div id=\"df-7eeef6b8-b7bd-4c04-992d-2182f467775c\">\n",
              "    <div class=\"colab-df-container\">\n",
              "      <div>\n",
              "<style scoped>\n",
              "    .dataframe tbody tr th:only-of-type {\n",
              "        vertical-align: middle;\n",
              "    }\n",
              "\n",
              "    .dataframe tbody tr th {\n",
              "        vertical-align: top;\n",
              "    }\n",
              "\n",
              "    .dataframe thead th {\n",
              "        text-align: right;\n",
              "    }\n",
              "</style>\n",
              "<table border=\"1\" class=\"dataframe\">\n",
              "  <thead>\n",
              "    <tr style=\"text-align: right;\">\n",
              "      <th></th>\n",
              "      <th>memType</th>\n",
              "      <th>story</th>\n",
              "      <th>story_preprocessed</th>\n",
              "      <th>word_count</th>\n",
              "    </tr>\n",
              "  </thead>\n",
              "  <tbody>\n",
              "    <tr>\n",
              "      <th>2685</th>\n",
              "      <td>recalled</td>\n",
              "      <td>This was it</td>\n",
              "      <td></td>\n",
              "      <td>0</td>\n",
              "    </tr>\n",
              "    <tr>\n",
              "      <th>236</th>\n",
              "      <td>retold</td>\n",
              "      <td>She is my oldest \"stepdaughter\"</td>\n",
              "      <td>old stepdaughter</td>\n",
              "      <td>2</td>\n",
              "    </tr>\n",
              "    <tr>\n",
              "      <th>739</th>\n",
              "      <td>recalled</td>\n",
              "      <td>I was bored with my job</td>\n",
              "      <td>bored job</td>\n",
              "      <td>2</td>\n",
              "    </tr>\n",
              "    <tr>\n",
              "      <th>868</th>\n",
              "      <td>imagined</td>\n",
              "      <td>She stands in the front of the church</td>\n",
              "      <td>stand church</td>\n",
              "      <td>2</td>\n",
              "    </tr>\n",
              "    <tr>\n",
              "      <th>2012</th>\n",
              "      <td>imagined</td>\n",
              "      <td>Two months ago I did it</td>\n",
              "      <td>month ago</td>\n",
              "      <td>2</td>\n",
              "    </tr>\n",
              "    <tr>\n",
              "      <th>2574</th>\n",
              "      <td>recalled</td>\n",
              "      <td>Dear, diary</td>\n",
              "      <td>dear diary</td>\n",
              "      <td>2</td>\n",
              "    </tr>\n",
              "    <tr>\n",
              "      <th>5290</th>\n",
              "      <td>imagined</td>\n",
              "      <td>he day it happened was the same as most</td>\n",
              "      <td>day happen</td>\n",
              "      <td>2</td>\n",
              "    </tr>\n",
              "    <tr>\n",
              "      <th>1623</th>\n",
              "      <td>imagined</td>\n",
              "      <td>I have been working on packing up my apartment...</td>\n",
              "      <td>work pack apartment</td>\n",
              "      <td>3</td>\n",
              "    </tr>\n",
              "    <tr>\n",
              "      <th>1673</th>\n",
              "      <td>recalled</td>\n",
              "      <td>It happened a few months ago</td>\n",
              "      <td>happen month ago</td>\n",
              "      <td>3</td>\n",
              "    </tr>\n",
              "    <tr>\n",
              "      <th>4616</th>\n",
              "      <td>imagined</td>\n",
              "      <td>I am very proud of myself as a father. I have ...</td>\n",
              "      <td>proud father kid</td>\n",
              "      <td>3</td>\n",
              "    </tr>\n",
              "    <tr>\n",
              "      <th>504</th>\n",
              "      <td>retold</td>\n",
              "      <td>After having to give up on school to work full...</td>\n",
              "      <td>have school work time</td>\n",
              "      <td>4</td>\n",
              "    </tr>\n",
              "    <tr>\n",
              "      <th>3106</th>\n",
              "      <td>imagined</td>\n",
              "      <td>About one week ago I took m</td>\n",
              "      <td>week ago take m</td>\n",
              "      <td>4</td>\n",
              "    </tr>\n",
              "  </tbody>\n",
              "</table>\n",
              "</div>\n",
              "      <button class=\"colab-df-convert\" onclick=\"convertToInteractive('df-7eeef6b8-b7bd-4c04-992d-2182f467775c')\"\n",
              "              title=\"Convert this dataframe to an interactive table.\"\n",
              "              style=\"display:none;\">\n",
              "\n",
              "  <svg xmlns=\"http://www.w3.org/2000/svg\" height=\"24px\"viewBox=\"0 0 24 24\"\n",
              "       width=\"24px\">\n",
              "    <path d=\"M0 0h24v24H0V0z\" fill=\"none\"/>\n",
              "    <path d=\"M18.56 5.44l.94 2.06.94-2.06 2.06-.94-2.06-.94-.94-2.06-.94 2.06-2.06.94zm-11 1L8.5 8.5l.94-2.06 2.06-.94-2.06-.94L8.5 2.5l-.94 2.06-2.06.94zm10 10l.94 2.06.94-2.06 2.06-.94-2.06-.94-.94-2.06-.94 2.06-2.06.94z\"/><path d=\"M17.41 7.96l-1.37-1.37c-.4-.4-.92-.59-1.43-.59-.52 0-1.04.2-1.43.59L10.3 9.45l-7.72 7.72c-.78.78-.78 2.05 0 2.83L4 21.41c.39.39.9.59 1.41.59.51 0 1.02-.2 1.41-.59l7.78-7.78 2.81-2.81c.8-.78.8-2.07 0-2.86zM5.41 20L4 18.59l7.72-7.72 1.47 1.35L5.41 20z\"/>\n",
              "  </svg>\n",
              "      </button>\n",
              "\n",
              "\n",
              "\n",
              "    <div id=\"df-0a823f03-4dd9-4a2e-bb26-2658d966b9d7\">\n",
              "      <button class=\"colab-df-quickchart\" onclick=\"quickchart('df-0a823f03-4dd9-4a2e-bb26-2658d966b9d7')\"\n",
              "              title=\"Suggest charts.\"\n",
              "              style=\"display:none;\">\n",
              "\n",
              "<svg xmlns=\"http://www.w3.org/2000/svg\" height=\"24px\"viewBox=\"0 0 24 24\"\n",
              "     width=\"24px\">\n",
              "    <g>\n",
              "        <path d=\"M19 3H5c-1.1 0-2 .9-2 2v14c0 1.1.9 2 2 2h14c1.1 0 2-.9 2-2V5c0-1.1-.9-2-2-2zM9 17H7v-7h2v7zm4 0h-2V7h2v10zm4 0h-2v-4h2v4z\"/>\n",
              "    </g>\n",
              "</svg>\n",
              "      </button>\n",
              "    </div>\n",
              "\n",
              "<style>\n",
              "  .colab-df-quickchart {\n",
              "    background-color: #E8F0FE;\n",
              "    border: none;\n",
              "    border-radius: 50%;\n",
              "    cursor: pointer;\n",
              "    display: none;\n",
              "    fill: #1967D2;\n",
              "    height: 32px;\n",
              "    padding: 0 0 0 0;\n",
              "    width: 32px;\n",
              "  }\n",
              "\n",
              "  .colab-df-quickchart:hover {\n",
              "    background-color: #E2EBFA;\n",
              "    box-shadow: 0px 1px 2px rgba(60, 64, 67, 0.3), 0px 1px 3px 1px rgba(60, 64, 67, 0.15);\n",
              "    fill: #174EA6;\n",
              "  }\n",
              "\n",
              "  [theme=dark] .colab-df-quickchart {\n",
              "    background-color: #3B4455;\n",
              "    fill: #D2E3FC;\n",
              "  }\n",
              "\n",
              "  [theme=dark] .colab-df-quickchart:hover {\n",
              "    background-color: #434B5C;\n",
              "    box-shadow: 0px 1px 3px 1px rgba(0, 0, 0, 0.15);\n",
              "    filter: drop-shadow(0px 1px 2px rgba(0, 0, 0, 0.3));\n",
              "    fill: #FFFFFF;\n",
              "  }\n",
              "</style>\n",
              "\n",
              "    <script>\n",
              "      async function quickchart(key) {\n",
              "        const containerElement = document.querySelector('#' + key);\n",
              "        const charts = await google.colab.kernel.invokeFunction(\n",
              "            'suggestCharts', [key], {});\n",
              "      }\n",
              "    </script>\n",
              "\n",
              "      <script>\n",
              "\n",
              "function displayQuickchartButton(domScope) {\n",
              "  let quickchartButtonEl =\n",
              "    domScope.querySelector('#df-0a823f03-4dd9-4a2e-bb26-2658d966b9d7 button.colab-df-quickchart');\n",
              "  quickchartButtonEl.style.display =\n",
              "    google.colab.kernel.accessAllowed ? 'block' : 'none';\n",
              "}\n",
              "\n",
              "        displayQuickchartButton(document);\n",
              "      </script>\n",
              "      <style>\n",
              "    .colab-df-container {\n",
              "      display:flex;\n",
              "      flex-wrap:wrap;\n",
              "      gap: 12px;\n",
              "    }\n",
              "\n",
              "    .colab-df-convert {\n",
              "      background-color: #E8F0FE;\n",
              "      border: none;\n",
              "      border-radius: 50%;\n",
              "      cursor: pointer;\n",
              "      display: none;\n",
              "      fill: #1967D2;\n",
              "      height: 32px;\n",
              "      padding: 0 0 0 0;\n",
              "      width: 32px;\n",
              "    }\n",
              "\n",
              "    .colab-df-convert:hover {\n",
              "      background-color: #E2EBFA;\n",
              "      box-shadow: 0px 1px 2px rgba(60, 64, 67, 0.3), 0px 1px 3px 1px rgba(60, 64, 67, 0.15);\n",
              "      fill: #174EA6;\n",
              "    }\n",
              "\n",
              "    [theme=dark] .colab-df-convert {\n",
              "      background-color: #3B4455;\n",
              "      fill: #D2E3FC;\n",
              "    }\n",
              "\n",
              "    [theme=dark] .colab-df-convert:hover {\n",
              "      background-color: #434B5C;\n",
              "      box-shadow: 0px 1px 3px 1px rgba(0, 0, 0, 0.15);\n",
              "      filter: drop-shadow(0px 1px 2px rgba(0, 0, 0, 0.3));\n",
              "      fill: #FFFFFF;\n",
              "    }\n",
              "  </style>\n",
              "\n",
              "      <script>\n",
              "        const buttonEl =\n",
              "          document.querySelector('#df-7eeef6b8-b7bd-4c04-992d-2182f467775c button.colab-df-convert');\n",
              "        buttonEl.style.display =\n",
              "          google.colab.kernel.accessAllowed ? 'block' : 'none';\n",
              "\n",
              "        async function convertToInteractive(key) {\n",
              "          const element = document.querySelector('#df-7eeef6b8-b7bd-4c04-992d-2182f467775c');\n",
              "          const dataTable =\n",
              "            await google.colab.kernel.invokeFunction('convertToInteractive',\n",
              "                                                     [key], {});\n",
              "          if (!dataTable) return;\n",
              "\n",
              "          const docLinkHtml = 'Like what you see? Visit the ' +\n",
              "            '<a target=\"_blank\" href=https://colab.research.google.com/notebooks/data_table.ipynb>data table notebook</a>'\n",
              "            + ' to learn more about interactive tables.';\n",
              "          element.innerHTML = '';\n",
              "          dataTable['output_type'] = 'display_data';\n",
              "          await google.colab.output.renderOutput(dataTable, element);\n",
              "          const docLink = document.createElement('div');\n",
              "          docLink.innerHTML = docLinkHtml;\n",
              "          element.appendChild(docLink);\n",
              "        }\n",
              "      </script>\n",
              "    </div>\n",
              "  </div>\n"
            ]
          },
          "metadata": {},
          "execution_count": 96
        }
      ]
    },
    {
      "cell_type": "code",
      "source": [
        "# Let's check the stories that have a number of words below 2.5 std\n",
        "data[data['word_count'] > max_thr].loc[:,['memType','story','story_preprocessed','word_count']].sort_values('word_count', ascending=False, inplace=False)"
      ],
      "metadata": {
        "id": "RfhAsVA3XKaP",
        "colab": {
          "base_uri": "https://localhost:8080/",
          "height": 641
        },
        "outputId": "11a4ad47-26a9-422c-a6be-d7c198f33762"
      },
      "execution_count": 97,
      "outputs": [
        {
          "data": {
            "text/html": [
              "\n",
              "\n",
              "  <div id=\"df-7cdd6214-2d5e-4ed7-b056-6e5008eb7ad9\">\n",
              "    <div class=\"colab-df-container\">\n",
              "      <div>\n",
              "<style scoped>\n",
              "    .dataframe tbody tr th:only-of-type {\n",
              "        vertical-align: middle;\n",
              "    }\n",
              "\n",
              "    .dataframe tbody tr th {\n",
              "        vertical-align: top;\n",
              "    }\n",
              "\n",
              "    .dataframe thead th {\n",
              "        text-align: right;\n",
              "    }\n",
              "</style>\n",
              "<table border=\"1\" class=\"dataframe\">\n",
              "  <thead>\n",
              "    <tr style=\"text-align: right;\">\n",
              "      <th></th>\n",
              "      <th>memType</th>\n",
              "      <th>story</th>\n",
              "      <th>story_preprocessed</th>\n",
              "      <th>word_count</th>\n",
              "    </tr>\n",
              "  </thead>\n",
              "  <tbody>\n",
              "    <tr>\n",
              "      <th>3767</th>\n",
              "      <td>recalled</td>\n",
              "      <td>Recently I left a homeless shelter for vets I ...</td>\n",
              "      <td>recently leave homeless shelter vet stay year ...</td>\n",
              "      <td>251</td>\n",
              "    </tr>\n",
              "    <tr>\n",
              "      <th>2882</th>\n",
              "      <td>retold</td>\n",
              "      <td>After HVAC school for one year I realized I wa...</td>\n",
              "      <td>hvac school year realize comfortable teach sca...</td>\n",
              "      <td>247</td>\n",
              "    </tr>\n",
              "    <tr>\n",
              "      <th>1892</th>\n",
              "      <td>recalled</td>\n",
              "      <td>Be born into a normal family that buys a new h...</td>\n",
              "      <td>bear normal family buy new home new car bear e...</td>\n",
              "      <td>246</td>\n",
              "    </tr>\n",
              "    <tr>\n",
              "      <th>3365</th>\n",
              "      <td>imagined</td>\n",
              "      <td>I was re-doing my kitchen my neighbor had a fr...</td>\n",
              "      <td>kitchen neighbor free stove let 2 month ago bu...</td>\n",
              "      <td>240</td>\n",
              "    </tr>\n",
              "    <tr>\n",
              "      <th>895</th>\n",
              "      <td>recalled</td>\n",
              "      <td>I was looking to buy a car but I didn't have t...</td>\n",
              "      <td>look buy car transportation time option limit ...</td>\n",
              "      <td>239</td>\n",
              "    </tr>\n",
              "    <tr>\n",
              "      <th>...</th>\n",
              "      <td>...</td>\n",
              "      <td>...</td>\n",
              "      <td>...</td>\n",
              "      <td>...</td>\n",
              "    </tr>\n",
              "    <tr>\n",
              "      <th>1247</th>\n",
              "      <td>imagined</td>\n",
              "      <td>About a month ago, actually it might have been...</td>\n",
              "      <td>month ago actually close 5 week ago boss come ...</td>\n",
              "      <td>182</td>\n",
              "    </tr>\n",
              "    <tr>\n",
              "      <th>1178</th>\n",
              "      <td>imagined</td>\n",
              "      <td>My mother have a heart disease, so I planned t...</td>\n",
              "      <td>mother heart disease plan assisted living resi...</td>\n",
              "      <td>182</td>\n",
              "    </tr>\n",
              "    <tr>\n",
              "      <th>1118</th>\n",
              "      <td>imagined</td>\n",
              "      <td>Two months ago I moved to a new city after acc...</td>\n",
              "      <td>month ago move new city accept new job softwar...</td>\n",
              "      <td>182</td>\n",
              "    </tr>\n",
              "    <tr>\n",
              "      <th>46</th>\n",
              "      <td>retold</td>\n",
              "      <td>This year has been difficult due to marital pr...</td>\n",
              "      <td>year difficult marital problem arise lack exci...</td>\n",
              "      <td>182</td>\n",
              "    </tr>\n",
              "    <tr>\n",
              "      <th>2904</th>\n",
              "      <td>recalled</td>\n",
              "      <td>This past July I went on vacation with my fami...</td>\n",
              "      <td>past july go vacation family year vacation rea...</td>\n",
              "      <td>182</td>\n",
              "    </tr>\n",
              "  </tbody>\n",
              "</table>\n",
              "<p>147 rows × 4 columns</p>\n",
              "</div>\n",
              "      <button class=\"colab-df-convert\" onclick=\"convertToInteractive('df-7cdd6214-2d5e-4ed7-b056-6e5008eb7ad9')\"\n",
              "              title=\"Convert this dataframe to an interactive table.\"\n",
              "              style=\"display:none;\">\n",
              "\n",
              "  <svg xmlns=\"http://www.w3.org/2000/svg\" height=\"24px\"viewBox=\"0 0 24 24\"\n",
              "       width=\"24px\">\n",
              "    <path d=\"M0 0h24v24H0V0z\" fill=\"none\"/>\n",
              "    <path d=\"M18.56 5.44l.94 2.06.94-2.06 2.06-.94-2.06-.94-.94-2.06-.94 2.06-2.06.94zm-11 1L8.5 8.5l.94-2.06 2.06-.94-2.06-.94L8.5 2.5l-.94 2.06-2.06.94zm10 10l.94 2.06.94-2.06 2.06-.94-2.06-.94-.94-2.06-.94 2.06-2.06.94z\"/><path d=\"M17.41 7.96l-1.37-1.37c-.4-.4-.92-.59-1.43-.59-.52 0-1.04.2-1.43.59L10.3 9.45l-7.72 7.72c-.78.78-.78 2.05 0 2.83L4 21.41c.39.39.9.59 1.41.59.51 0 1.02-.2 1.41-.59l7.78-7.78 2.81-2.81c.8-.78.8-2.07 0-2.86zM5.41 20L4 18.59l7.72-7.72 1.47 1.35L5.41 20z\"/>\n",
              "  </svg>\n",
              "      </button>\n",
              "\n",
              "\n",
              "\n",
              "    <div id=\"df-3275c4bd-1a99-41ac-a2f5-6fa32161b0cb\">\n",
              "      <button class=\"colab-df-quickchart\" onclick=\"quickchart('df-3275c4bd-1a99-41ac-a2f5-6fa32161b0cb')\"\n",
              "              title=\"Suggest charts.\"\n",
              "              style=\"display:none;\">\n",
              "\n",
              "<svg xmlns=\"http://www.w3.org/2000/svg\" height=\"24px\"viewBox=\"0 0 24 24\"\n",
              "     width=\"24px\">\n",
              "    <g>\n",
              "        <path d=\"M19 3H5c-1.1 0-2 .9-2 2v14c0 1.1.9 2 2 2h14c1.1 0 2-.9 2-2V5c0-1.1-.9-2-2-2zM9 17H7v-7h2v7zm4 0h-2V7h2v10zm4 0h-2v-4h2v4z\"/>\n",
              "    </g>\n",
              "</svg>\n",
              "      </button>\n",
              "    </div>\n",
              "\n",
              "<style>\n",
              "  .colab-df-quickchart {\n",
              "    background-color: #E8F0FE;\n",
              "    border: none;\n",
              "    border-radius: 50%;\n",
              "    cursor: pointer;\n",
              "    display: none;\n",
              "    fill: #1967D2;\n",
              "    height: 32px;\n",
              "    padding: 0 0 0 0;\n",
              "    width: 32px;\n",
              "  }\n",
              "\n",
              "  .colab-df-quickchart:hover {\n",
              "    background-color: #E2EBFA;\n",
              "    box-shadow: 0px 1px 2px rgba(60, 64, 67, 0.3), 0px 1px 3px 1px rgba(60, 64, 67, 0.15);\n",
              "    fill: #174EA6;\n",
              "  }\n",
              "\n",
              "  [theme=dark] .colab-df-quickchart {\n",
              "    background-color: #3B4455;\n",
              "    fill: #D2E3FC;\n",
              "  }\n",
              "\n",
              "  [theme=dark] .colab-df-quickchart:hover {\n",
              "    background-color: #434B5C;\n",
              "    box-shadow: 0px 1px 3px 1px rgba(0, 0, 0, 0.15);\n",
              "    filter: drop-shadow(0px 1px 2px rgba(0, 0, 0, 0.3));\n",
              "    fill: #FFFFFF;\n",
              "  }\n",
              "</style>\n",
              "\n",
              "    <script>\n",
              "      async function quickchart(key) {\n",
              "        const containerElement = document.querySelector('#' + key);\n",
              "        const charts = await google.colab.kernel.invokeFunction(\n",
              "            'suggestCharts', [key], {});\n",
              "      }\n",
              "    </script>\n",
              "\n",
              "      <script>\n",
              "\n",
              "function displayQuickchartButton(domScope) {\n",
              "  let quickchartButtonEl =\n",
              "    domScope.querySelector('#df-3275c4bd-1a99-41ac-a2f5-6fa32161b0cb button.colab-df-quickchart');\n",
              "  quickchartButtonEl.style.display =\n",
              "    google.colab.kernel.accessAllowed ? 'block' : 'none';\n",
              "}\n",
              "\n",
              "        displayQuickchartButton(document);\n",
              "      </script>\n",
              "      <style>\n",
              "    .colab-df-container {\n",
              "      display:flex;\n",
              "      flex-wrap:wrap;\n",
              "      gap: 12px;\n",
              "    }\n",
              "\n",
              "    .colab-df-convert {\n",
              "      background-color: #E8F0FE;\n",
              "      border: none;\n",
              "      border-radius: 50%;\n",
              "      cursor: pointer;\n",
              "      display: none;\n",
              "      fill: #1967D2;\n",
              "      height: 32px;\n",
              "      padding: 0 0 0 0;\n",
              "      width: 32px;\n",
              "    }\n",
              "\n",
              "    .colab-df-convert:hover {\n",
              "      background-color: #E2EBFA;\n",
              "      box-shadow: 0px 1px 2px rgba(60, 64, 67, 0.3), 0px 1px 3px 1px rgba(60, 64, 67, 0.15);\n",
              "      fill: #174EA6;\n",
              "    }\n",
              "\n",
              "    [theme=dark] .colab-df-convert {\n",
              "      background-color: #3B4455;\n",
              "      fill: #D2E3FC;\n",
              "    }\n",
              "\n",
              "    [theme=dark] .colab-df-convert:hover {\n",
              "      background-color: #434B5C;\n",
              "      box-shadow: 0px 1px 3px 1px rgba(0, 0, 0, 0.15);\n",
              "      filter: drop-shadow(0px 1px 2px rgba(0, 0, 0, 0.3));\n",
              "      fill: #FFFFFF;\n",
              "    }\n",
              "  </style>\n",
              "\n",
              "      <script>\n",
              "        const buttonEl =\n",
              "          document.querySelector('#df-7cdd6214-2d5e-4ed7-b056-6e5008eb7ad9 button.colab-df-convert');\n",
              "        buttonEl.style.display =\n",
              "          google.colab.kernel.accessAllowed ? 'block' : 'none';\n",
              "\n",
              "        async function convertToInteractive(key) {\n",
              "          const element = document.querySelector('#df-7cdd6214-2d5e-4ed7-b056-6e5008eb7ad9');\n",
              "          const dataTable =\n",
              "            await google.colab.kernel.invokeFunction('convertToInteractive',\n",
              "                                                     [key], {});\n",
              "          if (!dataTable) return;\n",
              "\n",
              "          const docLinkHtml = 'Like what you see? Visit the ' +\n",
              "            '<a target=\"_blank\" href=https://colab.research.google.com/notebooks/data_table.ipynb>data table notebook</a>'\n",
              "            + ' to learn more about interactive tables.';\n",
              "          element.innerHTML = '';\n",
              "          dataTable['output_type'] = 'display_data';\n",
              "          await google.colab.output.renderOutput(dataTable, element);\n",
              "          const docLink = document.createElement('div');\n",
              "          docLink.innerHTML = docLinkHtml;\n",
              "          element.appendChild(docLink);\n",
              "        }\n",
              "      </script>\n",
              "    </div>\n",
              "  </div>\n"
            ],
            "text/plain": [
              "       memType                                              story  \\\n",
              "3767  recalled  Recently I left a homeless shelter for vets I ...   \n",
              "2882    retold  After HVAC school for one year I realized I wa...   \n",
              "1892  recalled  Be born into a normal family that buys a new h...   \n",
              "3365  imagined  I was re-doing my kitchen my neighbor had a fr...   \n",
              "895   recalled  I was looking to buy a car but I didn't have t...   \n",
              "...        ...                                                ...   \n",
              "1247  imagined  About a month ago, actually it might have been...   \n",
              "1178  imagined  My mother have a heart disease, so I planned t...   \n",
              "1118  imagined  Two months ago I moved to a new city after acc...   \n",
              "46      retold  This year has been difficult due to marital pr...   \n",
              "2904  recalled  This past July I went on vacation with my fami...   \n",
              "\n",
              "                                     story_preprocessed  word_count  \n",
              "3767  recently leave homeless shelter vet stay year ...         251  \n",
              "2882  hvac school year realize comfortable teach sca...         247  \n",
              "1892  bear normal family buy new home new car bear e...         246  \n",
              "3365  kitchen neighbor free stove let 2 month ago bu...         240  \n",
              "895   look buy car transportation time option limit ...         239  \n",
              "...                                                 ...         ...  \n",
              "1247  month ago actually close 5 week ago boss come ...         182  \n",
              "1178  mother heart disease plan assisted living resi...         182  \n",
              "1118  month ago move new city accept new job softwar...         182  \n",
              "46    year difficult marital problem arise lack exci...         182  \n",
              "2904  past july go vacation family year vacation rea...         182  \n",
              "\n",
              "[147 rows x 4 columns]"
            ]
          },
          "execution_count": 97,
          "metadata": {},
          "output_type": "execute_result"
        }
      ]
    },
    {
      "cell_type": "code",
      "source": [
        "# Not include data without words after preprocessing\n",
        "data = data[data['word_count'] != 0]"
      ],
      "metadata": {
        "id": "aMtDdNmpcQjl"
      },
      "execution_count": 98,
      "outputs": []
    },
    {
      "cell_type": "code",
      "source": [
        "# Use this cell if you want to remove data later\n",
        "\n",
        "#mask = data['word_counts'] < min_thr\n",
        "\n",
        "#data = data.drop(data[mask].index)"
      ],
      "metadata": {
        "id": "lFtgxtjqbDzZ"
      },
      "execution_count": 99,
      "outputs": []
    },
    {
      "cell_type": "code",
      "source": [
        "# Create a figure with two subplots\n",
        "fig, (ax1, ax2) = plt.subplots(1, 2, figsize=(10, 5))\n",
        "\n",
        "# Plot the histogram using seaborn on the first axis\n",
        "sns.histplot(data['word_count'], ax=ax1, kde = True)\n",
        "ax1.set_title('Histogram')\n",
        "\n",
        "# Plot the boxplot using seaborn on the second axis\n",
        "sns.boxplot(data['word_count'], ax=ax2)\n",
        "ax2.set_title('Boxplot')\n",
        "\n",
        "# Add a common x-axis label\n",
        "fig.text(0.5, 0.04, 'Value', ha='center')\n",
        "\n",
        "# Show the plot\n",
        "plt.show()\n"
      ],
      "metadata": {
        "id": "hfymmpfl7_vE",
        "colab": {
          "base_uri": "https://localhost:8080/",
          "height": 450
        },
        "outputId": "9889478c-9e76-4ba6-8923-ecb7b213f85b"
      },
      "execution_count": 100,
      "outputs": [
        {
          "output_type": "display_data",
          "data": {
            "text/plain": [
              "<Figure size 1000x500 with 2 Axes>"
            ],
            "image/png": "[encoded data removed]"
          },
          "metadata": {}
        }
      ]
    },
    {
      "cell_type": "code",
      "source": [
        "fig, (ax1, ax2, ax3) = plt.subplots(1, 3, figsize=(20, 10))\n",
        "\n",
        "# Plot histogram with distribution line for recalled text\n",
        "word = data[data['memType'] == 'recalled']['word_count']\n",
        "sns.histplot(word, ax=ax1, color='red', kde=True)\n",
        "ax1.set_title('Recalled text')\n",
        "\n",
        "# Plot histogram with distribution line for retold text\n",
        "word = data[data['memType'] == 'retold']['word_count']\n",
        "sns.histplot(word, ax=ax2, color='green', kde=True)\n",
        "ax2.set_title('Retold text')\n",
        "\n",
        "# Plot histogram with distribution line for imagined text\n",
        "word = data[data['memType'] == 'imagined']['word_count']\n",
        "sns.histplot(word, ax=ax3, color='blue', kde=True)\n",
        "ax3.set_title('Imagined text')\n",
        "\n",
        "fig.suptitle('Average word length in each text')\n",
        "\n",
        "# Display the plot\n",
        "plt.show()\n"
      ],
      "metadata": {
        "id": "qoDSccpPnc4A",
        "colab": {
          "base_uri": "https://localhost:8080/",
          "height": 462
        },
        "outputId": "92d47b7e-dc07-4aee-f971-d4d3c640c0ba"
      },
      "execution_count": 101,
      "outputs": [
        {
          "output_type": "display_data",
          "data": {
            "text/plain": [
              "<Figure size 2000x1000 with 3 Axes>"
            ],
            "image/png": "[encoded data removed]"
          },
          "metadata": {}
        }
      ]
    },
    {
      "cell_type": "markdown",
      "source": [
        "# 🧮 Text transformation into vectors"
      ],
      "metadata": {
        "id": "bI8YZV2G5efd"
      }
    },
    {
      "cell_type": "code",
      "source": [
        "from sklearn.feature_extraction.text import CountVectorizer, TfidfTransformer\n",
        "from sklearn.naive_bayes import MultinomialNB\n",
        "from sklearn.linear_model import LogisticRegression\n",
        "from sklearn.pipeline import Pipeline\n",
        "from sklearn.model_selection import train_test_split\n",
        "from sklearn.metrics import accuracy_score\n",
        "from sklearn.preprocessing import LabelEncoder\n",
        "\n",
        "X = data['story_preprocessed']\n",
        "\n",
        "\n",
        "# Machine learning\n",
        "label_encoder = LabelEncoder()\n",
        "y = data['memType']\n",
        "y = label_encoder.fit_transform(y)"
      ],
      "metadata": {
        "id": "2MNcA7wI_ljO"
      },
      "execution_count": 102,
      "outputs": []
    },
    {
      "cell_type": "code",
      "source": [
        "# Split the data into training, validation and test sets\n",
        "X_train, X_test, y_train, y_test = train_test_split(X, y, test_size=0.2, random_state=42)"
      ],
      "metadata": {
        "id": "Qs3tqzVl_pVf"
      },
      "execution_count": 103,
      "outputs": []
    },
    {
      "cell_type": "code",
      "source": [
        "X_train, X_val, y_train, y_val = train_test_split(X_train,y_train, test_size = 0.2, random_state = 42)\n",
        "\n",
        "# Create the pipeline\n",
        "pipeline = Pipeline([\n",
        "    ('bow', CountVectorizer(min_df=0.05)),  # strings to token integer counts\n",
        "    ('tfidf', TfidfTransformer()),  # integer counts to weighted TF-IDF scores\n",
        "    ('classifier', LogisticRegression(multi_class = 'ovr')),  # train on TF-IDF vectors with Logistic Regression\n",
        "])\n",
        "\n",
        "# Fit the pipeline on the training data\n",
        "pipeline.fit(X_train, y_train)\n",
        "\n",
        "# Make predictions on the test data\n",
        "y_pred = pipeline.predict(X_test)\n",
        "\n",
        "# Calculate accuracy score\n",
        "accuracy = accuracy_score(y_test, y_pred)\n",
        "\n",
        "# Print the accuracy score\n",
        "print(\"Accuracy:\", accuracy)"
      ],
      "metadata": {
        "id": "qKqkSCEEvsZO",
        "colab": {
          "base_uri": "https://localhost:8080/"
        },
        "outputId": "cf3e0a70-3f6e-4cf6-b04c-01deaab41524"
      },
      "execution_count": 104,
      "outputs": [
        {
          "output_type": "stream",
          "name": "stdout",
          "text": [
            "Accuracy: 0.5325054784514244\n"
          ]
        }
      ]
    },
    {
      "cell_type": "code",
      "source": [
        "bow = pipeline.named_steps['bow'].transform(X_train).toarray()\n",
        "tfidf = pipeline.named_steps['tfidf'].transform(bow).toarray()"
      ],
      "metadata": {
        "id": "HfGSeJhmVIjh"
      },
      "execution_count": 105,
      "outputs": []
    },
    {
      "cell_type": "code",
      "source": [
        "# Preprocessing pipeline\n",
        "preprocessor = Pipeline([\n",
        "    ('bow', CountVectorizer(min_df=0.05)),  # strings to token integer counts\n",
        "    ('tfidf', TfidfTransformer()) # integer counts to weighted TF-IDF scores\n",
        "])\n",
        "def trying_models(preprocessor, model):\n",
        "\n",
        "    pipelined_model = Pipeline([\n",
        "        (\"preprocessing_pipeline\", preprocessor),\n",
        "        (\"modelling\",model)\n",
        "    ])\n",
        "\n",
        "    return pipelined_model"
      ],
      "metadata": {
        "id": "42PIsokge0qe"
      },
      "execution_count": 106,
      "outputs": []
    },
    {
      "cell_type": "code",
      "source": [
        "from sklearn.svm import SVC\n",
        "from sklearn.neighbors import KNeighborsClassifier\n",
        "from sklearn.tree import DecisionTreeClassifier\n",
        "from sklearn.ensemble import RandomForestClassifier, AdaBoostClassifier\n",
        "from xgboost import XGBClassifier\n",
        "\n",
        "\n",
        "models_to_try = [LogisticRegression(multi_class = 'ovr'),\n",
        "                SVC(kernel = \"linear\"),\n",
        "                KNeighborsClassifier(n_neighbors = 5),\n",
        "                SVC(kernel = \"poly\", degree = 2),\n",
        "                SVC(kernel = \"poly\", degree = 3),\n",
        "                SVC(kernel = \"poly\", degree = 4),\n",
        "                SVC(kernel = \"rbf\"),\n",
        "                DecisionTreeClassifier(),\n",
        "                AdaBoostClassifier(),\n",
        "                RandomForestClassifier(),\n",
        "                ]\n",
        "\n",
        "models_names = [\"logreg\",\n",
        "               \"svc_linear\",\n",
        "               \"neighbors_five\",\n",
        "               \"svc_poly_2\",\n",
        "               \"svc_poly_3\",\n",
        "               \"svc_poly_4\",\n",
        "               \"svc_rbf\",\n",
        "               \"decision_tree_classifier\",\n",
        "               \"adaboost\",\n",
        "               \"random_forest\"]"
      ],
      "metadata": {
        "id": "lTQ51etzc5Zj"
      },
      "execution_count": 107,
      "outputs": []
    },
    {
      "cell_type": "code",
      "source": [
        "%%time\n",
        "\n",
        "from sklearn.metrics import accuracy_score, f1_score\n",
        "\n",
        "accuracies = []\n",
        "\n",
        "for model_name, model_to_try in zip(models_names, models_to_try):\n",
        "    print(\"-\"*100)\n",
        "    print(f\"Classification using the {model_name} model:\")\n",
        "\n",
        "    # Train\n",
        "    fitted_model = trying_models(preprocessor, model_to_try).fit(X_train, y_train)\n",
        "\n",
        "    # Predict\n",
        "    temporary_predictions = fitted_model.predict(X_test)\n",
        "\n",
        "    # Score\n",
        "    accuracy = round(accuracy_score(y_test, temporary_predictions), 2)\n",
        "    accuracies.append(accuracy)\n",
        "    print(f'Accuracy: {accuracy}')\n",
        "    f1_macro = round(f1_score(y_test, y_pred, average='macro'), 2)\n",
        "    print(f'f1_macro: {f1_macro}')\n",
        "    f1_weighted = round(f1_score(y_test, y_pred, average='weighted'), 2)\n",
        "    print(f'f1_weighted : {f1_weighted}')\n",
        "\n",
        "    # # CONFUSION MATRIX\n",
        "\n",
        "    # cm = confusion_matrix(y_test, temporary_predictions, labels = [0,1])\n",
        "    # disp = ConfusionMatrixDisplay(confusion_matrix = cm, display_labels = [0,1])\n",
        "    # disp.plot()\n",
        "    # plt.show()\n"
      ],
      "metadata": {
        "id": "eIxUxbJHd_KA",
        "colab": {
          "base_uri": "https://localhost:8080/"
        },
        "outputId": "b9f3e43d-751c-4a9f-ddf8-b24863a08a74"
      },
      "execution_count": 108,
      "outputs": [
        {
          "output_type": "stream",
          "name": "stdout",
          "text": [
            "----------------------------------------------------------------------------------------------------\n",
            "Classification using the logreg model:\n",
            "Accuracy: 0.53\n",
            "f1_macro: 0.42\n",
            "f1_weighted : 0.49\n",
            "----------------------------------------------------------------------------------------------------\n",
            "Classification using the svc_linear model:\n",
            "Accuracy: 0.53\n",
            "f1_macro: 0.42\n",
            "f1_weighted : 0.49\n",
            "----------------------------------------------------------------------------------------------------\n",
            "Classification using the neighbors_five model:\n",
            "Accuracy: 0.41\n",
            "f1_macro: 0.42\n",
            "f1_weighted : 0.49\n",
            "----------------------------------------------------------------------------------------------------\n",
            "Classification using the svc_poly_2 model:\n",
            "Accuracy: 0.52\n",
            "f1_macro: 0.42\n",
            "f1_weighted : 0.49\n",
            "----------------------------------------------------------------------------------------------------\n",
            "Classification using the svc_poly_3 model:\n",
            "Accuracy: 0.5\n",
            "f1_macro: 0.42\n",
            "f1_weighted : 0.49\n",
            "----------------------------------------------------------------------------------------------------\n",
            "Classification using the svc_poly_4 model:\n",
            "Accuracy: 0.5\n",
            "f1_macro: 0.42\n",
            "f1_weighted : 0.49\n",
            "----------------------------------------------------------------------------------------------------\n",
            "Classification using the svc_rbf model:\n",
            "Accuracy: 0.53\n",
            "f1_macro: 0.42\n",
            "f1_weighted : 0.49\n",
            "----------------------------------------------------------------------------------------------------\n",
            "Classification using the decision_tree_classifier model:\n",
            "Accuracy: 0.42\n",
            "f1_macro: 0.42\n",
            "f1_weighted : 0.49\n",
            "----------------------------------------------------------------------------------------------------\n",
            "Classification using the adaboost model:\n",
            "Accuracy: 0.51\n",
            "f1_macro: 0.42\n",
            "f1_weighted : 0.49\n",
            "----------------------------------------------------------------------------------------------------\n",
            "Classification using the random_forest model:\n",
            "Accuracy: 0.54\n",
            "f1_macro: 0.42\n",
            "f1_weighted : 0.49\n",
            "CPU times: user 1min 45s, sys: 89.3 ms, total: 1min 45s\n",
            "Wall time: 2min 5s\n"
          ]
        }
      ]
    },
    {
      "cell_type": "code",
      "source": [
        "X_train_vectorized = pd.DataFrame(preprocessor.fit_transform(X_train, y_train).toarray())\n",
        "random_forest = RandomForestClassifier()\n",
        "random_forest.fit(X_train_vectorized, y_train)\n",
        "random_forest.get_params();"
      ],
      "metadata": {
        "id": "Y5V16gmVj72j"
      },
      "execution_count": null,
      "outputs": []
    },
    {
      "cell_type": "code",
      "source": [
        "from sklearn.model_selection import GridSearchCV\n",
        "\n",
        "param_grid = {\n",
        "    'n_estimators': [85, 110, 112, 114, 115, 117, 118, 120],\n",
        "    'max_depth': [11, 12, 13],\n",
        "}\n",
        "\n",
        "# Initialize GridSearchCV\n",
        "grid_search = GridSearchCV(random_forest, param_grid, cv=5, n_jobs=-1)\n",
        "\n",
        "# Fit the GridSearchCV to find the best model\n",
        "grid_search.fit(X_train_vectorized, y_train)"
      ],
      "metadata": {
        "id": "as8wiiHjlaHr"
      },
      "execution_count": null,
      "outputs": []
    },
    {
      "cell_type": "code",
      "source": [
        "grid_search.best_params_"
      ],
      "metadata": {
        "id": "L6CjEtWlo8-4"
      },
      "execution_count": null,
      "outputs": []
    },
    {
      "cell_type": "code",
      "source": [
        "best_model = grid_search.best_estimator_.fit(X_train_vectorized, y_train)"
      ],
      "metadata": {
        "id": "UcpcmF9tpr3H"
      },
      "execution_count": null,
      "outputs": []
    },
    {
      "cell_type": "code",
      "source": [
        "# Transforming X_test\n",
        "X_test_transformed = preprocessor.transform(X_test).toarray()\n",
        "\n",
        "# predictions\n",
        "temporary_predictions = best_model.predict(X_test_transformed)\n",
        "\n",
        "# scoring\n",
        "rf_accuracy = accuracy_score(y_test, temporary_predictions)\n",
        "round(rf_accuracy, 2)"
      ],
      "metadata": {
        "id": "OWSJxpDrqDTU"
      },
      "execution_count": null,
      "outputs": []
    },
    {
      "cell_type": "code",
      "source": [
        "from sklearn.metrics import classification_report\n",
        "\n",
        "target_names = data['memType'].unique()\n",
        "clf_report = pd.DataFrame(classification_report(y_test, y_pred, target_names=target_names, output_dict=True))\n",
        "\n",
        "# Plot the heatmap of the classification report\n",
        "fig, ax = plt.subplots(figsize=(10, 6))\n",
        "sns.heatmap(clf_report.iloc[:-1, :].T, annot=True, cmap='Blues', ax=ax)\n",
        "ax.set_title('Classification Report Heatmap')\n",
        "plt.show()"
      ],
      "metadata": {
        "id": "wS8ZkoWLyHmk"
      },
      "execution_count": null,
      "outputs": []
    },
    {
      "cell_type": "markdown",
      "source": [
        "# 🧠 Deep Learning"
      ],
      "metadata": {
        "id": "_NGqbvPVWwgX"
      }
    },
    {
      "cell_type": "code",
      "source": [
        "! pip install tensorflow\n",
        "! pip install transformers"
      ],
      "metadata": {
        "id": "_lO5JzSjtfWJ"
      },
      "execution_count": null,
      "outputs": []
    },
    {
      "cell_type": "code",
      "source": [
        "# Defining variables\n",
        "# X = data['story_preprocessed']\n",
        "X = data['story']\n",
        "y = pd.get_dummies(data['memType'])\n",
        "y.head()"
      ],
      "metadata": {
        "id": "BWo1Lwy9N1yT"
      },
      "execution_count": null,
      "outputs": []
    },
    {
      "cell_type": "code",
      "source": [
        "from sklearn.model_selection import train_test_split\n",
        "\n",
        "# Split the data into training, validation and test sets\n",
        "X_train, X_test, y_train, y_test = train_test_split(X, y, test_size=0.2, random_state=42)\n",
        "X_train, X_val, y_train, y_val = train_test_split(X_train,y_train, test_size = 0.2, random_state = 42)"
      ],
      "metadata": {
        "id": "PkWiLIaHL2-7"
      },
      "execution_count": null,
      "outputs": []
    },
    {
      "cell_type": "code",
      "source": [
        "X_train.shape, y_train"
      ],
      "metadata": {
        "id": "UsIf7q_YbVkj"
      },
      "execution_count": null,
      "outputs": []
    },
    {
      "cell_type": "markdown",
      "source": [
        "## 🧩 Embeddings"
      ],
      "metadata": {
        "id": "KdMhytXmtoDQ"
      }
    },
    {
      "cell_type": "markdown",
      "source": [
        "### Context Oblivious: 🧤Glove, ⚡FastText, Word2Vec"
      ],
      "metadata": {
        "id": "1YYUdieZ2nhR"
      }
    },
    {
      "cell_type": "code",
      "source": [
        "import gensim.downloader\n",
        "# Print the available pretrained word embedding models:\n",
        "# print(list(gensim.downloader.info()['models'].keys()))\n",
        "\n",
        "# Load pre-trained word embedding models\n",
        "model_glove = gensim.downloader.load('glove-wiki-gigaword-100')\n",
        "# model_fasttext = gensim.downloader.load('fasttext-wiki-news-subwords-300')\n",
        "# model_word2vec = gensim.downloader.load('word2vec-google-news-300')"
      ],
      "metadata": {
        "id": "SKuET-iyPQyE"
      },
      "execution_count": null,
      "outputs": []
    },
    {
      "cell_type": "code",
      "source": [
        "# def generate_sentence_embeddings(input_sentences, model):\n",
        "\n",
        "#   \"\"\"Generate sentence level embeddings\n",
        "#   \"\"\"\n",
        "\n",
        "#   input_sentences_tokenized = input_sentences.apply(lambda x: x.split()) # tokenize\n",
        "#   input_sentences_tokenized = np.array(input_sentences_tokenized.apply(lambda x: np.array(list(set(x))))) # create a dictionary using set\n",
        "\n",
        "#   embedding = []\n",
        "\n",
        "#   for sentence in input_sentences_tokenized:\n",
        "\n",
        "#     vector = [model[word] for word in sentence if word in model]\n",
        "#     if vector:\n",
        "#       sentence_vec = np.mean(vector, axis=0)\n",
        "#       embedding.append(sentence_vec)\n",
        "\n",
        "#   return embedding\n",
        "\n",
        "def generate_word_embeddings(input_sentences, model):\n",
        "\n",
        "  \"\"\"Generate word level embeddings\n",
        "  \"\"\"\n",
        "\n",
        "  input_sentences_tokenized = input_sentences.apply(lambda x: x.split()) # tokenize\n",
        "  input_sentences_tokenized = np.array(input_sentences_tokenized.apply(lambda x: np.array(list(set(x))))) # create a dictionary using set\n",
        "\n",
        "  embedding_word_level = []\n",
        "\n",
        "  for sentence in input_sentences_tokenized:\n",
        "\n",
        "    vector = [model[word] for word in sentence if word in model]\n",
        "    # if vector:\n",
        "    #   embedding_word_level.append(np.array(vector))\n",
        "    embedding_word_level.append(np.array(vector))\n",
        "\n",
        "  return np.array(embedding_word_level)"
      ],
      "metadata": {
        "id": "fR_DxSBbPrLN"
      },
      "execution_count": null,
      "outputs": []
    },
    {
      "cell_type": "code",
      "source": [
        "# embedding_models = [model_glove, model_fasttext, model_word2vec]\n",
        "embedding_models = [model_glove]\n",
        "datasets_list = [X_train, X_val, X_test]"
      ],
      "metadata": {
        "id": "o3pqpF1n-i1v"
      },
      "execution_count": null,
      "outputs": []
    },
    {
      "cell_type": "code",
      "source": [
        "# # SENTENCE LEVEL - Embeddings using pre-trained Glove, FastText, Word2vec\n",
        "# glove_embeddings = [generate_sentence_embeddings(dataset, model) for model in embedding_models if model == model_glove for dataset in datasets_list]\n",
        "# fasttext_embeddings = [generate_sentence_embeddings(dataset, model) for model in embedding_models if model == model_fasttext for dataset in datasets_list]\n",
        "# word2vec_embeddings = [generate_sentence_embeddings(dataset, model) for model in embedding_models if model == model_word2vec for dataset in datasets_list]"
      ],
      "metadata": {
        "id": "GVeD_-DJRuu2"
      },
      "execution_count": null,
      "outputs": []
    },
    {
      "cell_type": "code",
      "source": [
        "# WORD LEVEL - Embeddings using pre-trained Glove, FastText, Word2vec\n",
        "glove_embeddings = [generate_word_embeddings(dataset, model) for model in embedding_models if model == model_glove for dataset in datasets_list]\n",
        "# fasttext_embeddings = [generate_word_embeddings(dataset, model) for model in embedding_models if model == model_fasttext for dataset in datasets_list]\n",
        "# word2vec_embeddings = [generate_word_embeddings(dataset, model) for model in embedding_models if model == model_word2vec for dataset in datasets_list]"
      ],
      "metadata": {
        "id": "08-IhGOUYAuC"
      },
      "execution_count": null,
      "outputs": []
    },
    {
      "cell_type": "code",
      "source": [
        "# # PADDING - Sentence level\n",
        "# from tensorflow.keras.preprocessing.sequence import pad_sequences\n",
        "# X_train_glove = pad_sequences(glove_embeddings[0], dtype='float32', padding='post', maxlen=200)\n",
        "# X_val_glove = pad_sequences(glove_embeddings[1], dtype='float32', padding='post', maxlen=200)\n",
        "# X_test_glove = pad_sequences(glove_embeddings[2], dtype='float32', padding='post', maxlen=200)"
      ],
      "metadata": {
        "id": "kYiXNZFXW761"
      },
      "execution_count": null,
      "outputs": []
    },
    {
      "cell_type": "code",
      "source": [
        "# PADDING - Word level\n",
        "from tensorflow.keras.preprocessing.sequence import pad_sequences\n",
        "X_train_glove = pad_sequences(glove_embeddings[0], dtype='float32', padding='post', maxlen=200)\n",
        "X_val_glove = pad_sequences(glove_embeddings[1], dtype='float32', padding='post', maxlen=200)\n",
        "#X_train_fasttext = pad_sequences(fasttext_embeddings[0], dtype='float32', padding='post', maxlen=200)\n",
        "#X_val_fasttext = pad_sequences(fasttext_embeddings[1], dtype='float32', padding='post', maxlen=200)\n",
        "# X_train_word2vec= pad_sequences(word2vec_embeddings[0], dtype='float32', padding='post', maxlen=200)\n",
        "# X_val_word2vec= pad_sequences(word2vec_embeddings[1], dtype='float32', padding='post', maxlen=200)"
      ],
      "metadata": {
        "id": "i0bmx58HD1U7"
      },
      "execution_count": null,
      "outputs": []
    },
    {
      "cell_type": "markdown",
      "source": [
        "### Context Sensitive: 📚 BERT"
      ],
      "metadata": {
        "id": "s_WNuuJm2vs9"
      }
    },
    {
      "cell_type": "code",
      "source": [
        "# ! pip install transformers\n",
        "# from transformers import AutoModel, BertTokenizer, BertModel, TFBertForSequenceClassification, AdamW\n",
        "# import tensorflow_hub as hub\n",
        "\n",
        "# #tokenizer = BertTokenizer.from_pretrained('/content/drive/MyDrive/neuromatch/bert-based-uncased') # Bert tokenizer\n",
        "# model = BertModel.from_pretrained('/content/drive/MyDrive/neuromatch/bert-base-uncased' , local_files_only=True) # Bert model\n",
        "\n",
        "# bert_model_name = \"https://tfhub.dev/tensorflow/small_bert/bert_en_uncased_L-4_H-512_A-8/1\"  # Example: BERT-base uncased model from TensorFlow Hub\n",
        "# bert_layer = hub.KerasLayer(bert_model_name, trainable=True)\n",
        "\n",
        "# # Modelling\n",
        "# model = tf.keras.Sequential([\n",
        "#     bert_layer,\n",
        "#     tf.keras.layers.Dense(3, activation='softmax')\n",
        "# ])\n",
        "\n",
        "# model.compile(optimizer='adam',\n",
        "#               loss='sparse_categorical_crossentropy',\n",
        "#               metrics=['accuracy'])\n",
        "\n",
        "# model.fit(input_ids, labels, epochs=num_epochs, batch_size=batch_size)"
      ],
      "metadata": {
        "id": "LRJkr_dOuZ3l"
      },
      "execution_count": null,
      "outputs": []
    },
    {
      "cell_type": "markdown",
      "source": [
        "### 📊 Representational Similarity Analysis (RSA)\n"
      ],
      "metadata": {
        "id": "v3XoJSO2n3N5"
      }
    },
    {
      "cell_type": "code",
      "source": [
        "def preprocess_data_for_rsa(array, y_train):\n",
        "\n",
        "    y_df = pd.DataFrame(y_train)\n",
        "    y_train_reset = y_df.reset_index(drop=True)\n",
        "\n",
        "    df = pd.DataFrame(array)\n",
        "\n",
        "    df_reset = df.reset_index(drop=True)\n",
        "    df_reset['memType'] = y_train_reset\n",
        "    df_reset = df_reset.sort_values(by='memType').iloc[:,:-1]\n",
        "    df_reset = df.reset_index(drop=True)\n",
        "\n",
        "    return df_reset"
      ],
      "metadata": {
        "id": "M7MrTdqrg_mk"
      },
      "execution_count": null,
      "outputs": []
    },
    {
      "cell_type": "code",
      "source": [
        "bow_df_reset = preprocess_data_for_rsa(bow, y_train)\n",
        "tfidf_df_reset = preprocess_data_for_rsa(tfidf, y_train)\n",
        "glove_embedding_reset = preprocess_data_for_rsa(X_train_glove, y_train)\n",
        "fasttext_embedding_reset = preprocess_data_for_rsa(X_train_fasttext, y_train)\n",
        "# word2vec_embedding_reset = preprocess_data_for_rsa(word2vec_embedding_train, y_train)"
      ],
      "metadata": {
        "id": "kT5vgWd0jYzu"
      },
      "execution_count": null,
      "outputs": []
    },
    {
      "cell_type": "code",
      "source": [
        "from scipy.spatial.distance import pdist, squareform\n",
        "\n",
        "def compute_similarity_matrices(dfs, titles):\n",
        "    RSAs = []\n",
        "    for df in dfs:\n",
        "        RSA = 1 - squareform(pdist(df, metric='cosine'))\n",
        "        RSAs.append(RSA)\n",
        "\n",
        "    fig, axs = plt.subplots(1, len(dfs), figsize=(10, 5))\n",
        "\n",
        "    for RSA, ax, title in zip(RSAs, axs, titles):\n",
        "        sns.heatmap(RSA, ax=ax, cmap='viridis')\n",
        "        ax.set_title(title)\n",
        "\n",
        "    plt.tight_layout()\n",
        "    plt.show()\n"
      ],
      "metadata": {
        "id": "olBM-zUvkqqS"
      },
      "execution_count": null,
      "outputs": []
    },
    {
      "cell_type": "code",
      "source": [
        "freq_dfs = [bow_df_reset, tfidf_df_reset]\n",
        "freq_titles = ['Bag of Words RSA', 'Tf-idf RSA']\n",
        "\n",
        "compute_similarity_matrices(freq_dfs, freq_titles)"
      ],
      "metadata": {
        "id": "L_CI8Wo3ktC6"
      },
      "execution_count": null,
      "outputs": []
    },
    {
      "cell_type": "code",
      "source": [
        "embedding_dfs = [glove_embedding_reset, fasttext_embedding_reset, word2vec_embedding_reset]\n",
        "embedding_titles = ['Glove Word Embedding RSA', 'Fasttext Word Embedding RSA', 'Word2vec Word Embedding RSA']\n",
        "\n",
        "compute_similarity_matrices(embedding_dfs, embedding_titles)"
      ],
      "metadata": {
        "id": "0zWBwKwMkviR"
      },
      "execution_count": null,
      "outputs": []
    },
    {
      "cell_type": "code",
      "source": [
        "from sklearn.decomposition import PCA\n",
        "import matplotlib.pyplot as plt\n",
        "\n",
        "# Assume 'bow_df_reset' and 'tfidf_df_reset' are your dataframes\n",
        "pca = PCA(n_components=2)\n",
        "\n",
        "# Perform PCA on the two datasets\n",
        "bow_pca = pca.fit_transform(bow_df_reset.iloc[:, :-1])\n",
        "tfidf_pca = pca.fit_transform(tfidf_df_reset.iloc[:, :-1])\n",
        "\n",
        "# Define parameters for the plot\n",
        "num = 15\n",
        "categs = 3\n",
        "colors = ['blue', 'orange', 'magenta']\n",
        "labels = ['imagined', 'recalled', 'retold']\n",
        "markers = ['o', 'x', 's']\n",
        "\n",
        "# Create a figure with two subplots\n",
        "fig, axs = plt.subplots(1, 2, figsize=(16, 8))\n",
        "\n",
        "# Plot PCA for bow_df\n",
        "for i in range(categs):\n",
        "   axs[0].scatter(bow_pca[i*num:(i+1)*num, 0],\n",
        "               bow_pca[i*num:(i+1)*num, 1],\n",
        "               c=colors[i],\n",
        "               marker=markers[i], label=labels[i])\n",
        "axs[0].legend()\n",
        "axs[0].set_title('PCA Representation of the Bag of Words')\n",
        "axs[0].set_xlabel('PC 1')\n",
        "axs[0].set_ylabel('PC 2')\n",
        "\n",
        "# Plot PCA for tfidf_df\n",
        "for i in range(categs):\n",
        "   axs[1].scatter(tfidf_pca[i*num:(i+1)*num, 0],\n",
        "               tfidf_pca[i*num:(i+1)*num, 1],\n",
        "               c=colors[i],\n",
        "               marker=markers[i], label=labels[i])\n",
        "axs[1].legend()\n",
        "axs[1].set_title('PCA Representation of the Tf-idf')\n",
        "axs[1].set_xlabel('PC 1')\n",
        "axs[1].set_ylabel('PC 2')\n",
        "\n",
        "plt.tight_layout()\n",
        "plt.show()\n"
      ],
      "metadata": {
        "id": "5b3u_YqOg7ea"
      },
      "execution_count": null,
      "outputs": []
    },
    {
      "cell_type": "code",
      "source": [
        "from sklearn.decomposition import PCA\n",
        "import matplotlib.pyplot as plt\n",
        "\n",
        "# Assume 'bow_df_reset' and 'tfidf_df_reset' are your dataframes\n",
        "pca = PCA(n_components=2)\n",
        "\n",
        "# Perform PCA on the two datasets\n",
        "glove_pca = pca.fit_transform(glove_embedding_reset)\n",
        "fasttext_pca = pca.fit_transform(fasttext_embedding_reset)\n",
        "word2vec_pca = pca.fit_transform(word2vec_embedding_reset)\n",
        "\n",
        "# Define parameters for the plot\n",
        "num = 15\n",
        "categs = 3\n",
        "colors = ['blue', 'orange', 'magenta']\n",
        "labels = ['imagined', 'recalled', 'retold']\n",
        "markers = ['o', 'x', 's']\n",
        "\n",
        "# Create a figure with two subplots\n",
        "fig, axs = plt.subplots(1,3, figsize=(16, 8))\n",
        "\n",
        "# Plot PCA for Glove\n",
        "for i in range(categs):\n",
        "   axs[0].scatter(glove_pca[i*num:(i+1)*num, 0],\n",
        "               glove_pca[i*num:(i+1)*num, 1],\n",
        "               c=colors[i],\n",
        "               marker=markers[i], label=labels[i])\n",
        "axs[0].legend()\n",
        "axs[0].set_title('PCA Representation of the Glove')\n",
        "axs[0].set_xlabel('PC 1')\n",
        "axs[0].set_ylabel('PC 2')\n",
        "\n",
        "# Plot PCA for Fasttext\n",
        "for i in range(categs):\n",
        "   axs[1].scatter(fasttext_pca[i*num:(i+1)*num, 0],\n",
        "               fasttext_pca[i*num:(i+1)*num, 1],\n",
        "               c=colors[i],\n",
        "               marker=markers[i], label=labels[i])\n",
        "axs[1].legend()\n",
        "axs[1].set_title('PCA Representation of the Fasttext')\n",
        "axs[1].set_xlabel('PC 1')\n",
        "axs[1].set_ylabel('PC 2')\n",
        "\n",
        "\n",
        "# Plot PCA for Word2vec\n",
        "for i in range(categs):\n",
        "   axs[2].scatter(word2vec_pca[i*num:(i+1)*num, 0],\n",
        "               word2vec_pca[i*num:(i+1)*num, 1],\n",
        "               c=colors[i],\n",
        "               marker=markers[i], label=labels[i])\n",
        "axs[2].legend()\n",
        "axs[2].set_title('PCA Representation of the Word2vec')\n",
        "axs[2].set_xlabel('PC 1')\n",
        "axs[2].set_ylabel('PC 2')\n",
        "\n",
        "plt.tight_layout()\n",
        "plt.show()"
      ],
      "metadata": {
        "id": "ZTZkoZRzlzhM"
      },
      "execution_count": null,
      "outputs": []
    },
    {
      "cell_type": "markdown",
      "source": [
        "#### Other methods to compute RSA"
      ],
      "metadata": {
        "id": "ZCxWeHkusJJL"
      }
    },
    {
      "cell_type": "code",
      "source": [
        "# Preprocess the data to compute Representational Similarity Analysis\n",
        "\n",
        "# Reset y_train indices\n",
        "y_train_reset = y_train.reset_index(drop=True)\n",
        "\n",
        "# Reset bow_df and tfidf_df indices\n",
        "bow_df_reset = bow_df.reset_index(drop=True)\n",
        "tfidf_df_reset = tfidf_df.reset_index(drop=True)\n",
        "\n",
        "# Concatenate bow_df_reset and tfidf_df_reset with y_train_reset\n",
        "bow_df_reset = pd.concat([bow_df_reset, y_train_reset], axis=1)\n",
        "tfidf_df_reset = pd.concat([tfidf_df_reset,y_train_reset], axis = 1)\n",
        "\n",
        "# Sort values based on memType column\n",
        "bow_df_reset = bow_df_reset.sort_values(by='memType').iloc[:,:-1]\n",
        "tfidf_df_reset = tfidf_df_reset.sort_values(by='memType').iloc[:,:-1]"
      ],
      "metadata": {
        "id": "YejHxKuUg7eZ"
      },
      "execution_count": null,
      "outputs": []
    },
    {
      "cell_type": "code",
      "source": [
        "glove_embedding_reset = glove_embedding_train.reset_index(drop=True)\n",
        "glove_embedding_reset = pd.concat([glove_embedding_reset, y_train_reset], axis=1)\n",
        "glove_embedding_reset = glove_embedding_reset.sort_values(by='memType').iloc[:,:-1]\n",
        "\n",
        "fasttext_embedding_reset = fasttext_embedding_train.reset_index(drop=True)\n",
        "fasttext_embedding_reset = pd.concat([fasttext_embedding_reset, y_train_reset], axis=1)\n",
        "fasttext_embedding_reset = fasttext_embedding_reset.sort_values(by='memType').iloc[:,:-1]\n",
        "\n",
        "word2vec_embedding_reset = word2vec_embedding_train.reset_index(drop=True)\n",
        "word2vec_embedding_reset = pd.concat([word2vec_embedding_reset, y_train_reset], axis=1)\n",
        "word2vec_embedding_reset = word2vec_embedding_reset.sort_values(by='memType').iloc[:,:-1]"
      ],
      "metadata": {
        "id": "AKQXXnYTh4MJ"
      },
      "execution_count": null,
      "outputs": []
    },
    {
      "cell_type": "markdown",
      "source": [
        "**Method 1:** using pdist function"
      ],
      "metadata": {
        "id": "0YMBq0FwsN3y"
      }
    },
    {
      "cell_type": "code",
      "source": [
        "from scipy.spatial.distance import pdist, squareform\n",
        "\n",
        "# Compute similarity matrices\n",
        "bow_RSA = 1 - squareform(pdist(bow_df_reset.iloc[0:100,0:100], metric='cosine'))\n",
        "tfidf_RSA = 1 - squareform(pdist(tfidf_df_reset.iloc[0:100,0:100], metric='cosine'))\n",
        "\n",
        "# Create a figure with two subplots\n",
        "fig, (ax1, ax2) = plt.subplots(1, 2, figsize=(10, 5))\n",
        "\n",
        "# Plot heatmaps\n",
        "sns.heatmap(bow_RSA, ax=ax1, cmap='viridis')\n",
        "ax1.set_title('Bag of Words RSA')\n",
        "\n",
        "sns.heatmap(tfidf_RSA, ax=ax2, cmap='viridis')\n",
        "ax2.set_title('Tf-idf RSA')\n",
        "\n",
        "plt.tight_layout()\n",
        "plt.show()"
      ],
      "metadata": {
        "id": "ktAqUv96sZ7u"
      },
      "execution_count": null,
      "outputs": []
    },
    {
      "cell_type": "markdown",
      "source": [
        "**Method 2:** using the dot product after normalization"
      ],
      "metadata": {
        "id": "2R3kcCAzsRNm"
      }
    },
    {
      "cell_type": "markdown",
      "source": [
        "Note:\n",
        "\n",
        "If your data is already normalized (i.e., each row of data1 has a Euclidean norm of 1), then data1 @ data1.T will indeed give you a matrix of cosine similarities. However, if your data is not normalized, you'll need to normalize it first. Here's how you can do it:\n",
        "\n",
        "Normalize the data\n",
        "data1_normalized = data1 / np.linalg.norm(data1, axis=1, keepdims=True)\n",
        "\n",
        "Compute the matrix of cosine similarities\n",
        "RSA = data1_normalized @ data1_normalized.T"
      ],
      "metadata": {
        "id": "BepT-Tr_sjTa"
      }
    },
    {
      "cell_type": "code",
      "source": [
        "bow_df_norm = bow_df_reset.iloc[0:100,0:100] / np.linalg.norm(bow_df_reset.iloc[0:100,0:100], axis=1, keepdims=True)\n",
        "bow_RSA = bow_df_norm.iloc[0:100,0:100] @ bow_df_norm.iloc[0:100,0:100].T\n",
        "\n",
        "tfidf_df_norm = tfidf_df_reset.iloc[0:100,0:100] / np.linalg.norm(tfidf_df_reset.iloc[0:100,0:100], axis=1, keepdims=True)\n",
        "tfidf_RSA = tfidf_df_norm.iloc[0:100,0:100] @ tfidf_df_norm.iloc[0:100,0:100].T\n",
        "\n",
        "# Plot the respective RSA\n",
        "fig, (ax1, ax2) = plt.subplots(1, 2, figsize=(10, 5))\n",
        "\n",
        "# Plot heatmaps\n",
        "sns.heatmap(bow_RSA, ax=ax1, cmap='viridis')\n",
        "ax1.set_title('Bag of Words RSA')\n",
        "\n",
        "sns.heatmap(tfidf_RSA, ax=ax2, cmap='viridis')\n",
        "ax2.set_title('Tf-idf RSA')\n",
        "\n",
        "plt.tight_layout()\n",
        "plt.show()"
      ],
      "metadata": {
        "id": "IfwJhjRCsa9z"
      },
      "execution_count": null,
      "outputs": []
    },
    {
      "cell_type": "markdown",
      "source": [
        "## 🔄🔢LSTM"
      ],
      "metadata": {
        "id": "TjHSaPQfsoZA"
      }
    },
    {
      "cell_type": "markdown",
      "source": [
        "In an LSTM, information flows through time steps, and is retained and processed through its *memory cell state*."
      ],
      "metadata": {
        "id": "qaBtIS6_s75H"
      }
    },
    {
      "cell_type": "code",
      "source": [
        "from tensorflow.keras import Sequential\n",
        "from tensorflow.keras import models, layers\n",
        "\n",
        "def init_model():\n",
        "    model = Sequential()\n",
        "    model.add(layers.LSTM(20, input_shape=(200, 50), # (max number of words, ndim of each word)\n",
        "                          activation='tanh',\n",
        "                          kernel_regularizer='l2',\n",
        "                          recurrent_regularizer='l2'))  # Add L2 regularization to LSTM weights))\n",
        "    # model.add(layers.Dropout(0.5))\n",
        "    model.add(layers.Dense(20, activation='relu'))\n",
        "    # model.add(layers.Dropout(0.5))\n",
        "    model.add(layers.Dense(3, activation='softmax')) # Final predictive layer\n",
        "\n",
        "    model.compile(loss='categorical_crossentropy',\n",
        "                  optimizer='rmsprop',\n",
        "                  metrics=['accuracy'])\n",
        "\n",
        "    return model\n",
        "\n",
        "model = init_model()"
      ],
      "metadata": {
        "id": "h1yaTXsvV-Bp"
      },
      "execution_count": null,
      "outputs": []
    },
    {
      "cell_type": "code",
      "source": [
        "from tensorflow.keras import models, layers\n",
        "from tensorflow.keras.callbacks import EarlyStopping\n",
        "\n",
        "es = EarlyStopping(patience=5, restore_best_weights=True)\n",
        "\n",
        "model = init_model()\n",
        "\n",
        "history = model.fit(\n",
        "    X_train_glove, # CHANGE X_TRAIN TYPE OF EMBEDDINGS\n",
        "    y_train,\n",
        "    batch_size=16,\n",
        "    epochs=20,\n",
        "    validation_data=(X_val_glove, y_val),\n",
        "    callbacks=[es]\n",
        ")\n",
        "\n",
        "# Access the training and validation losses from the history object\n",
        "train_losses = history.history['loss']\n",
        "val_losses = history.history['val_loss']"
      ],
      "metadata": {
        "id": "7Y7NWidUKVts"
      },
      "execution_count": null,
      "outputs": []
    },
    {
      "cell_type": "code",
      "source": [
        "# Plot training and validation loss in each epoch.\n",
        "\n",
        "plt.figure()\n",
        "plt.plot(train_losses, label='Training loss')\n",
        "plt.plot(val_losses, label='Validation loss')\n",
        "plt.title('Training and Validation loss')\n",
        "plt.xlabel('Epochs')\n",
        "plt.ylabel('Loss')\n",
        "plt.legend()\n",
        "plt.show()"
      ],
      "metadata": {
        "id": "VFl01hbu43Ju"
      },
      "execution_count": null,
      "outputs": []
    },
    {
      "cell_type": "code",
      "source": [
        "# Make predictions using the trained model\n",
        "y_pred = model.predict(X_val_glove)\n",
        "\n",
        "# Convert the predicted probabilities to class labels (if your model returns probabilities)\n",
        "y_pred_classes = np.argmax(y_pred, axis=1)\n",
        "\n",
        "# Assuming y_val is one-hot encoded, convert it back to class labels (if needed)\n",
        "y_true_classes = np.argmax(y_val, axis=1)"
      ],
      "metadata": {
        "id": "bRCz4GPldrwa"
      },
      "execution_count": null,
      "outputs": []
    },
    {
      "cell_type": "code",
      "source": [
        "from sklearn.metrics import classification_report\n",
        "\n",
        "target_names = data['memType'].unique()\n",
        "clf_report = pd.DataFrame(classification_report(y_true_classes, y_pred_classes, target_names=target_names, output_dict=True))\n",
        "\n",
        "# Plot the heatmap of the classification report\n",
        "fig, ax = plt.subplots(figsize=(10, 6))\n",
        "sns.heatmap(clf_report.iloc[:-1, :].T, annot=True, cmap='Blues', ax=ax)\n",
        "ax.set_title('Classification Report Heatmap')\n",
        "plt.show()"
      ],
      "metadata": {
        "id": "xrwwGCze4Skr"
      },
      "execution_count": null,
      "outputs": []
    },
    {
      "cell_type": "markdown",
      "source": [],
      "metadata": {
        "id": "2J8mcKHkVkKO"
      }
    },
    {
      "cell_type": "code",
      "source": [
        "import torch\n",
        "from torch import nn\n",
        "from torch.nn import functional as F\n",
        "from torch.utils.data import Dataset\n",
        "from torchvision.transforms import ToTensor\n",
        "from torch.utils.data import DataLoader"
      ],
      "metadata": {
        "id": "UBKpEyfIE9iO"
      },
      "execution_count": null,
      "outputs": []
    },
    {
      "cell_type": "code",
      "source": [
        "def set_seed(seed=None, seed_torch=True):\n",
        "  \"\"\"\n",
        "  Function that controls randomness. NumPy and random modules must be imported.\n",
        "\n",
        "  Args:\n",
        "    seed : Integer\n",
        "      A non-negative integer that defines the random state. Default is `None`.\n",
        "    seed_torch : Boolean\n",
        "      If `True` sets the random seed for pytorch tensors, so pytorch module\n",
        "      must be imported. Default is `True`.\n",
        "\n",
        "  Returns:\n",
        "    Nothing.\n",
        "  \"\"\"\n",
        "  if seed is None:\n",
        "    seed = np.random.choice(2 ** 32)\n",
        "  random.seed(seed)\n",
        "  np.random.seed(seed)\n",
        "  if seed_torch:\n",
        "    torch.manual_seed(seed)\n",
        "    torch.cuda.manual_seed_all(seed)\n",
        "    torch.cuda.manual_seed(seed)\n",
        "    torch.backends.cudnn.benchmark = False\n",
        "    torch.backends.cudnn.deterministic = True\n",
        "\n",
        "  print(f'Random seed {seed} has been set.')\n",
        "\n",
        "\n",
        "# In case that `DataLoader` is used\n",
        "def seed_worker(worker_id):\n",
        "  \"\"\"\n",
        "  DataLoader will reseed workers following randomness in\n",
        "  multi-process data loading algorithm.\n",
        "\n",
        "  Args:\n",
        "    worker_id: integer\n",
        "      ID of subprocess to seed. 0 means that\n",
        "      the data will be loaded in the main process\n",
        "      Refer: https://pytorch.org/docs/stable/data.html#data-loading-randomness for more details\n",
        "\n",
        "  Returns:\n",
        "    Nothing\n",
        "  \"\"\"\n",
        "  worker_seed = torch.initial_seed() % 2**32\n",
        "  np.random.seed(worker_seed)\n",
        "  random.seed(worker_seed)"
      ],
      "metadata": {
        "id": "IR_zXsJmzajv"
      },
      "execution_count": null,
      "outputs": []
    },
    {
      "cell_type": "code",
      "source": [
        "def set_device():\n",
        "  \"\"\"\n",
        "  Set the device. CUDA if available, CPU otherwise\n",
        "\n",
        "  Args:\n",
        "    None\n",
        "\n",
        "  Returns:\n",
        "    Nothing\n",
        "  \"\"\"\n",
        "  device = \"cuda\" if torch.cuda.is_available() else \"cpu\"\n",
        "  if device != \"cuda\":\n",
        "    print(\"WARNING: For this notebook to perform best, \"\n",
        "        \"if possible, in the menu under `Runtime` -> \"\n",
        "        \"`Change runtime type.`  select `GPU` \")\n",
        "  else:\n",
        "    print(\"GPU is enabled in this notebook.\")\n",
        "\n",
        "  return device"
      ],
      "metadata": {
        "id": "wxnCEH4uGF3v"
      },
      "execution_count": null,
      "outputs": []
    },
    {
      "cell_type": "code",
      "source": [
        "SEED = 2021\n",
        "set_seed(seed=SEED)\n",
        "device = set_device()"
      ],
      "metadata": {
        "id": "wT9HWTYfzNyB"
      },
      "execution_count": null,
      "outputs": []
    },
    {
      "cell_type": "code",
      "source": [
        "class CiceroNet(nn.Module):\n",
        "  \"\"\"\n",
        "  A Linear Neural Net with one word embedding layer +  hidden layer\n",
        "  \"\"\"\n",
        "  def __init__(self, embed_dim, hidden_dim, output_dim):\n",
        "\n",
        "      \"\"\"\n",
        "      Initialize Ciceronet parameters\n",
        "\n",
        "      Args:\n",
        "      emebed_dim: int\n",
        "      Embedding dimension\n",
        "      out_dim: int\n",
        "      Ouput dimension\n",
        "      hid_dim: int\n",
        "      Hidden dimension\n",
        "\n",
        "      Returns: nothing\n",
        "\n",
        "      \"\"\"\n",
        "      super(CiceroNet, self).__init__()\n",
        "      self.fc1 = nn.Linear(embed_dim, hidden_dim)\n",
        "      self.fc2 = nn.Linear(hidden_dim, output_dim)\n",
        "\n",
        "  def forward(self, x):\n",
        "      \"\"\"\n",
        "      Forward pass of Ciceronet\n",
        "\n",
        "      Args:\n",
        "      x: torch.Tensor\n",
        "      Input tensor\n",
        "\n",
        "      Returns:\n",
        "      hid: torch.Tensor\n",
        "      Hidden layer activity\n",
        "      out: torch.Tensor\n",
        "      Output/Prediction\n",
        "      \"\"\"\n",
        "      x = F.relu(self.fc1(x))\n",
        "      x = self.fc2(x)\n",
        "      return F.log_softmax(x, dim=3)\n"
      ],
      "metadata": {
        "id": "PrSd7_3aW78g"
      },
      "execution_count": null,
      "outputs": []
    },
    {
      "cell_type": "code",
      "source": [
        "class MemoriesData(Dataset):\n",
        "\n",
        "  def __init__(self, data_list, targets):\n",
        "    self.data = data_list\n",
        "    self.targets = targets\n",
        "\n",
        "  def __len__(self):\n",
        "    return len(self.data)\n",
        "\n",
        "  def __getitem__(self, idx):\n",
        "    data = torch.tensor(self.data[idx], dtype=torch.float32)\n",
        "    target = torch.tensor(self.targets[idx], dtype=torch.long)\n",
        "    return data, target\n"
      ],
      "metadata": {
        "id": "I2n28uJOcs51"
      },
      "execution_count": null,
      "outputs": []
    },
    {
      "cell_type": "code",
      "source": [
        "# Instantiate MemoriesData function on our train, val, and test sets\n",
        "train_data = MemoriesData(glove_embedding_train, y_train)\n",
        "val_data = MemoriesData(glove_embedding_val, y_val)\n",
        "test_data = MemoriesData(glove_embedding_test, y_test)"
      ],
      "metadata": {
        "id": "83XLzT9ZifYK"
      },
      "execution_count": null,
      "outputs": []
    },
    {
      "cell_type": "code",
      "source": [
        "## DO WE NEED THIS? ##\n",
        "g_seed = torch.Generator()\n",
        "g_seed.manual_seed(SEED)\n",
        "\n",
        "# Instantiate the dataloader to load your data in batches\n",
        "train_dataloader = DataLoader(train_data, batch_size=64, shuffle=True, worker_init_fn=seed_worker) # generator = g_seed IS IT USEFUL FOR US?\n",
        "test_dataloader = DataLoader(test_data, batch_size=64, shuffle=True, worker_init_fn=seed_worker) # generator = g_seed IS IT USEFUL FOR US?"
      ],
      "metadata": {
        "id": "P7xiWq4riZoL"
      },
      "execution_count": null,
      "outputs": []
    },
    {
      "cell_type": "markdown",
      "source": [
        "In this function:\n",
        "\n",
        "**model** is the PyTorch model to train.\n",
        "\n",
        "**train_loader** and **val_loader** are PyTorch DataLoader objects for the training and validation data, respectively.\n",
        "\n",
        "**epochs** is the number of training epochs.\n",
        "\n",
        "**optimizer** is a PyTorch optimizer object (like torch.optim.SGD or torch.optim.Adam).\n",
        "\n",
        "**criterion** is a PyTorch loss function object (like nn.CrossEntropyLoss).\n",
        "\n",
        "**device** is a torch.device object representing the device on which the computations will be performed. This can be either a CPU or a GPU, depending on your setup and the availability of these resources.\n",
        "\n",
        "This function trains the model in the training phase, and then validates the model in the validation phase. The model's parameters are updated in the training phase, and then the model's performance is evaluated on the validation data. During the validation phase, the model is set to evaluation mode (**.eval()**), and no gradients are computed (with **torch.no_grad()**). This is to save memory and compute resources during the validation phase."
      ],
      "metadata": {
        "id": "nbWuUBM93YQP"
      }
    },
    {
      "cell_type": "code",
      "source": [
        "def train_model(model, train_loader, val_loader, epochs, optimizer, criterion, device):\n",
        "\n",
        "    for epoch in range(epochs):\n",
        "        model.train()\n",
        "        train_loss = 0.0\n",
        "        for inputs, labels in train_loader:\n",
        "            inputs, labels = inputs.to(device), labels.to(device)\n",
        "\n",
        "            optimizer.zero_grad()  # clear gradients\n",
        "            outputs = model(inputs)  # forward pass\n",
        "            loss = criterion(outputs, labels)  # compute loss\n",
        "            loss.backward()  # backpropagation\n",
        "            optimizer.step()  # update weights\n",
        "\n",
        "            train_loss += loss.item() * inputs.size(0)\n",
        "\n",
        "        # calculate average losses\n",
        "        train_loss = train_loss / len(train_loader.dataset)\n",
        "        train_losses.append(train_loss)\n",
        "\n",
        "        # print training/validation statistics\n",
        "        if (epoch + 1) % 50 == 0:  # print every 50 epochs\n",
        "          print('Epoch: {} \\tTraining Loss: {:.6f}'.format(epoch + 1, train_loss))\n",
        "\n",
        "          # validate the model\n",
        "          model.eval()\n",
        "          val_loss = 0.0\n",
        "          correct = 0\n",
        "          total = 0\n",
        "          with torch.no_grad():\n",
        "              for inputs, labels in val_loader:\n",
        "                  inputs, labels = inputs.to(device), labels.to(device)\n",
        "                  outputs = model(inputs)\n",
        "                  loss = criterion(outputs, labels)\n",
        "                  val_loss += loss.item() * inputs.size(0)\n",
        "\n",
        "                  _, predicted = torch.max(outputs.data, 1)\n",
        "                  total += labels.size(0)\n",
        "                  correct += (predicted == labels).sum().item()\n",
        "\n",
        "          val_loss = val_loss / len(val_loader.dataset)\n",
        "          val_losses.append(val_loss)\n",
        "\n",
        "          val_acc = correct / total\n",
        "          print('Validation Loss: {:.6f} \\tValidation Accuracy: {:.6f}'.format(val_loss, val_acc))\n",
        "\n",
        "    return train_losses, val_losses"
      ],
      "metadata": {
        "id": "v5HDAvq0v-Qh"
      },
      "execution_count": null,
      "outputs": []
    },
    {
      "cell_type": "code",
      "source": [
        "# Define model parameters\n",
        "embed_dim = 300     # dimension of word embedding vector\n",
        "hidden_dim = 500    # number of nodes in the hidden layer\n",
        "output_dim = 3      # number of classes\n",
        "\n",
        "# Instantiate the model\n",
        "model = CiceroNet(embed_dim, hidden_dim, output_dim)\n",
        "\n",
        "# Move the model to the device\n",
        "model = model.to(device)\n",
        "\n",
        "# Set the optimizer and the loss function (criterion)\n",
        "optimizer = torch.optim.Adam(model.parameters())\n",
        "criterion = nn.CrossEntropyLoss()\n",
        "\n",
        "# Set the number of epochs\n",
        "epochs = 500"
      ],
      "metadata": {
        "id": "cgN6nYNOycSz"
      },
      "execution_count": null,
      "outputs": []
    },
    {
      "cell_type": "code",
      "source": [
        "train_losses, val_losses = train_model(model, train_dataloader, test_dataloader, epochs, optimizer, criterion, device)"
      ],
      "metadata": {
        "id": "UxX_vIBdFoRp"
      },
      "execution_count": null,
      "outputs": []
    },
    {
      "cell_type": "code",
      "source": [
        "# Plot your training and validation loss in each epoch.\n",
        "\n",
        "plt.figure()\n",
        "plt.plot(train_losses, label='Training loss')\n",
        "plt.plot(val_losses, label='Validation loss')\n",
        "plt.title('Training and Validation loss')\n",
        "plt.xlabel('Epochs')\n",
        "plt.ylabel('Loss')\n",
        "plt.legend()\n",
        "plt.show()"
      ],
      "metadata": {
        "id": "FlhaBrtcIbP8"
      },
      "execution_count": null,
      "outputs": []
    },
    {
      "cell_type": "markdown",
      "source": [
        "In this function:\n",
        "\n",
        "**model** is the PyTorch model to test.\n",
        "\n",
        "**test_loader** is a PyTorch DataLoader object for the test data.\n",
        "\n",
        "**device** is a torch.device object representing the device on which the computations will be performed. This can be either a CPU or a GPU, depending on your setup and the availability of these resources.\n",
        "\n",
        "This function sets the model to evaluation mode (**.eval()**) and then runs the model on the test data without computing gradients (with **torch.no_grad()**). The accuracy of the model on the test data is then computed and printed."
      ],
      "metadata": {
        "id": "Ut-w5mih39Pj"
      }
    },
    {
      "cell_type": "code",
      "source": [
        "def test_model(model, test_loader, device):\n",
        "    model.eval()\n",
        "    correct = 0\n",
        "    total = 0\n",
        "    with torch.no_grad():\n",
        "        for inputs, labels in test_loader:\n",
        "            inputs, labels = inputs.to(device), labels.to(device)\n",
        "            outputs = model(inputs)\n",
        "            _, predicted = torch.max(outputs.data, 1)\n",
        "            total += labels.size(0)\n",
        "            correct += (predicted == labels).sum().item()\n",
        "    print('Test Accuracy: {:.2f}%'.format(100 * correct / total))\n"
      ],
      "metadata": {
        "id": "WptNmpYz38kS"
      },
      "execution_count": null,
      "outputs": []
    },
    {
      "cell_type": "code",
      "source": [
        "test_model(model,test_dataloader,device)"
      ],
      "metadata": {
        "id": "by69PuP5NXB2"
      },
      "execution_count": null,
      "outputs": []
    },
    {
      "cell_type": "code",
      "source": [
        "# Code from the tutorial\n",
        "\n",
        "def train(features, labels, model, loss_fun, optimizer, n_epochs):\n",
        "  \"\"\"\n",
        "  Training function\n",
        "\n",
        "  Args:\n",
        "    features: torch.Tensor\n",
        "      Features (input) with shape torch.Size([n_samples, 1])\n",
        "    labels: torch.Tensor\n",
        "      Labels (targets) with shape torch.Size([n_samples, 1])\n",
        "    model: torch nn.Module\n",
        "      The neural network\n",
        "    loss_fun: function\n",
        "      Loss function\n",
        "    optimizer: function\n",
        "      Optimizer\n",
        "    n_epochs: int\n",
        "      Number of training iterations\n",
        "\n",
        "  Returns:\n",
        "    loss_record: list\n",
        "      Record (evolution) of training losses\n",
        "  \"\"\"\n",
        "  loss_record = []  # Keeping recods of loss\n",
        "\n",
        "  for i in range(n_epochs):\n",
        "    optimizer.zero_grad()  # Set gradients to 0\n",
        "    predictions = model(features)  # Compute model prediction (output)\n",
        "    loss = loss_fun(predictions, labels)  # Compute the loss\n",
        "    loss.backward()  # Compute gradients (backward pass)\n",
        "    optimizer.step()  # Update parameters (optimizer takes a step)\n",
        "\n",
        "    loss_record.append(loss.item())\n",
        "  return loss_record\n",
        "\n",
        "\n",
        "### CHECK THIS PART\n",
        "set_seed(seed=2021)\n",
        "epochs = 500\n",
        "loss_function = nn.CrossEntropyLoss()\n",
        "sgd_optimizer = torch.optim.Adam\n",
        "## Uncomment to run\n",
        "losses = train(train_dataloader, test_dataloader, CiceroNet, loss_function, sgd_optimizer, epochs)\n",
        "with plt.xkcd():\n",
        "  ex3_plot(CiceroNet, train_dataloader, test_dataloader, epochs, losses)"
      ],
      "metadata": {
        "id": "t7RbmH-Aw6Zu"
      },
      "execution_count": null,
      "outputs": []
    }
  ]
}